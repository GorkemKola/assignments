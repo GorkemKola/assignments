{
 "cells": [
  {
   "cell_type": "code",
   "execution_count": 1,
   "metadata": {
    "id": "tOclu9iqZaI4"
   },
   "outputs": [],
   "source": [
    "import numpy as np\n",
    "import matplotlib.pyplot as plt\n",
    "import pandas as pd\n",
    "import seaborn as sns\n",
    "from sklearn.preprocessing import LabelEncoder,MinMaxScaler,PolynomialFeatures\n",
    "from sklearn.model_selection import train_test_split\n",
    "from sklearn.neighbors import KNeighborsClassifier\n",
    "from sklearn.metrics import confusion_matrix,classification_report,mean_squared_error, r2_score\n",
    "from sklearn.linear_model import LinearRegression\n",
    "import scipy\n",
    "from scipy.stats import spearmanr"
   ]
  },
  {
   "cell_type": "code",
   "execution_count": 2,
   "metadata": {
    "id": "ibCOAbIiqPv0"
   },
   "outputs": [],
   "source": [
    "data = pd.read_excel(\"dataset.xlsx\")"
   ]
  },
  {
   "cell_type": "code",
   "execution_count": 3,
   "metadata": {
    "colab": {
     "base_uri": "https://localhost:8080/",
     "height": 190
    },
    "id": "fx-f55xagAWi",
    "outputId": "52fdc8b0-d7f7-443d-aef4-cafe6e2800ec"
   },
   "outputs": [
    {
     "data": {
      "text/html": [
       "<div>\n",
       "<style scoped>\n",
       "    .dataframe tbody tr th:only-of-type {\n",
       "        vertical-align: middle;\n",
       "    }\n",
       "\n",
       "    .dataframe tbody tr th {\n",
       "        vertical-align: top;\n",
       "    }\n",
       "\n",
       "    .dataframe thead th {\n",
       "        text-align: right;\n",
       "    }\n",
       "</style>\n",
       "<table border=\"1\" class=\"dataframe\">\n",
       "  <thead>\n",
       "    <tr style=\"text-align: right;\">\n",
       "      <th></th>\n",
       "      <th>Name</th>\n",
       "      <th>NOB</th>\n",
       "      <th>V</th>\n",
       "      <th>SH</th>\n",
       "      <th>CS</th>\n",
       "      <th>CDR</th>\n",
       "      <th>TD</th>\n",
       "      <th>NOC</th>\n",
       "      <th>CBO</th>\n",
       "      <th>RFC</th>\n",
       "      <th>LOC</th>\n",
       "      <th>CLOC</th>\n",
       "      <th>FanIn</th>\n",
       "      <th>FanOut</th>\n",
       "      <th>LCOM</th>\n",
       "      <th>WMC</th>\n",
       "      <th>DIT</th>\n",
       "    </tr>\n",
       "  </thead>\n",
       "  <tbody>\n",
       "    <tr>\n",
       "      <th>0</th>\n",
       "      <td>Alarmio-master</td>\n",
       "      <td>22</td>\n",
       "      <td>17</td>\n",
       "      <td>3</td>\n",
       "      <td>169</td>\n",
       "      <td>1.4</td>\n",
       "      <td>1.0</td>\n",
       "      <td>0.364583</td>\n",
       "      <td>2.000000</td>\n",
       "      <td>5.802083</td>\n",
       "      <td>27.260802</td>\n",
       "      <td>3.567901</td>\n",
       "      <td>3.427686</td>\n",
       "      <td>4.367769</td>\n",
       "      <td>21.252630</td>\n",
       "      <td>5.464506</td>\n",
       "      <td>1.968750</td>\n",
       "    </tr>\n",
       "    <tr>\n",
       "      <th>1</th>\n",
       "      <td>AndroidAsyncHTTP-master</td>\n",
       "      <td>11</td>\n",
       "      <td>20</td>\n",
       "      <td>14</td>\n",
       "      <td>494</td>\n",
       "      <td>4.7</td>\n",
       "      <td>6.0</td>\n",
       "      <td>0.474684</td>\n",
       "      <td>2.208861</td>\n",
       "      <td>24.006329</td>\n",
       "      <td>25.996479</td>\n",
       "      <td>10.336268</td>\n",
       "      <td>3.172492</td>\n",
       "      <td>2.727170</td>\n",
       "      <td>17.430380</td>\n",
       "      <td>5.158451</td>\n",
       "      <td>2.177215</td>\n",
       "    </tr>\n",
       "    <tr>\n",
       "      <th>2</th>\n",
       "      <td>android-pdf-viewer-master</td>\n",
       "      <td>2</td>\n",
       "      <td>1</td>\n",
       "      <td>0</td>\n",
       "      <td>4</td>\n",
       "      <td>0.0</td>\n",
       "      <td>12.2</td>\n",
       "      <td>0.000000</td>\n",
       "      <td>0.500000</td>\n",
       "      <td>1.833333</td>\n",
       "      <td>18.280000</td>\n",
       "      <td>4.560000</td>\n",
       "      <td>1.727273</td>\n",
       "      <td>3.454545</td>\n",
       "      <td>9.666667</td>\n",
       "      <td>2.560000</td>\n",
       "      <td>1.666667</td>\n",
       "    </tr>\n",
       "  </tbody>\n",
       "</table>\n",
       "</div>"
      ],
      "text/plain": [
       "                        Name  NOB   V  SH   CS  CDR    TD       NOC       CBO  \\\n",
       "0             Alarmio-master   22  17   3  169  1.4   1.0  0.364583  2.000000   \n",
       "1    AndroidAsyncHTTP-master   11  20  14  494  4.7   6.0  0.474684  2.208861   \n",
       "2  android-pdf-viewer-master    2   1   0    4  0.0  12.2  0.000000  0.500000   \n",
       "\n",
       "         RFC        LOC       CLOC     FanIn    FanOut       LCOM       WMC  \\\n",
       "0   5.802083  27.260802   3.567901  3.427686  4.367769  21.252630  5.464506   \n",
       "1  24.006329  25.996479  10.336268  3.172492  2.727170  17.430380  5.158451   \n",
       "2   1.833333  18.280000   4.560000  1.727273  3.454545   9.666667  2.560000   \n",
       "\n",
       "        DIT  \n",
       "0  1.968750  \n",
       "1  2.177215  \n",
       "2  1.666667  "
      ]
     },
     "execution_count": 3,
     "metadata": {},
     "output_type": "execute_result"
    }
   ],
   "source": [
    "data.head(3) #First 3 samples of the our dataset:"
   ]
  },
  {
   "cell_type": "code",
   "execution_count": 4,
   "metadata": {
    "colab": {
     "base_uri": "https://localhost:8080/",
     "height": 809
    },
    "id": "5S0Fvtn3fqum",
    "outputId": "638c228f-0093-4b35-f2d0-89afcde3ed13"
   },
   "outputs": [
    {
     "data": {
      "image/png": "[encoded data removed]",
      "text/plain": [
       "<Figure size 432x288 with 1 Axes>"
      ]
     },
     "metadata": {
      "needs_background": "light"
     },
     "output_type": "display_data"
    },
    {
     "data": {
      "image/png": "[encoded data removed]",
      "text/plain": [
       "<Figure size 432x288 with 1 Axes>"
      ]
     },
     "metadata": {
      "needs_background": "light"
     },
     "output_type": "display_data"
    },
    {
     "data": {
      "image/png": "[encoded data removed]",
      "text/plain": [
       "<Figure size 432x288 with 1 Axes>"
      ]
     },
     "metadata": {
      "needs_background": "light"
     },
     "output_type": "display_data"
    }
   ],
   "source": [
    "#show the distribution of 3 metrics\n",
    "def plotHist(columnIndex,columnName,colorName):\n",
    "    plt.hist(data.iloc[:,columnIndex],color = colorName)\n",
    "    plt.title(f\"Disturbution of {columnName}\")\n",
    "plt.show(plotHist(1,\"Number of Bugs\",\"r\"))\n",
    "plt.show(plotHist(3,\" Security Hotspots\",\"b\"))\n",
    "plt.show(plotHist(10,\"Line of Code\",\"g\"))\n"
   ]
  },
  {
   "cell_type": "code",
   "execution_count": 5,
   "metadata": {
    "id": "IpoWMRUMa_vi",
    "scrolled": false
   },
   "outputs": [
    {
     "data": {
      "text/html": [
       "<div>\n",
       "<style scoped>\n",
       "    .dataframe tbody tr th:only-of-type {\n",
       "        vertical-align: middle;\n",
       "    }\n",
       "\n",
       "    .dataframe tbody tr th {\n",
       "        vertical-align: top;\n",
       "    }\n",
       "\n",
       "    .dataframe thead th {\n",
       "        text-align: right;\n",
       "    }\n",
       "</style>\n",
       "<table border=\"1\" class=\"dataframe\">\n",
       "  <thead>\n",
       "    <tr style=\"text-align: right;\">\n",
       "      <th></th>\n",
       "      <th>NOB</th>\n",
       "      <th>V</th>\n",
       "      <th>SH</th>\n",
       "      <th>CS</th>\n",
       "      <th>CDR</th>\n",
       "      <th>TD</th>\n",
       "      <th>NOC</th>\n",
       "      <th>CBO</th>\n",
       "      <th>RFC</th>\n",
       "      <th>LOC</th>\n",
       "      <th>CLOC</th>\n",
       "      <th>FanIn</th>\n",
       "      <th>FanOut</th>\n",
       "      <th>LCOM</th>\n",
       "      <th>WMC</th>\n",
       "      <th>DIT</th>\n",
       "    </tr>\n",
       "  </thead>\n",
       "  <tbody>\n",
       "    <tr>\n",
       "      <th>0</th>\n",
       "      <td>0.200000</td>\n",
       "      <td>0.055556</td>\n",
       "      <td>0.069767</td>\n",
       "      <td>0.0845</td>\n",
       "      <td>0.070707</td>\n",
       "      <td>0.081967</td>\n",
       "      <td>0.450368</td>\n",
       "      <td>0.547340</td>\n",
       "      <td>0.241690</td>\n",
       "      <td>0.328644</td>\n",
       "      <td>0.215585</td>\n",
       "      <td>0.467183</td>\n",
       "      <td>0.678344</td>\n",
       "      <td>0.483014</td>\n",
       "      <td>0.493334</td>\n",
       "      <td>0.904251</td>\n",
       "    </tr>\n",
       "    <tr>\n",
       "      <th>1</th>\n",
       "      <td>0.100000</td>\n",
       "      <td>0.065359</td>\n",
       "      <td>0.325581</td>\n",
       "      <td>0.2470</td>\n",
       "      <td>0.237374</td>\n",
       "      <td>0.491803</td>\n",
       "      <td>0.586374</td>\n",
       "      <td>0.604499</td>\n",
       "      <td>1.000000</td>\n",
       "      <td>0.295288</td>\n",
       "      <td>0.624553</td>\n",
       "      <td>0.432401</td>\n",
       "      <td>0.423548</td>\n",
       "      <td>0.396145</td>\n",
       "      <td>0.465703</td>\n",
       "      <td>1.000000</td>\n",
       "    </tr>\n",
       "    <tr>\n",
       "      <th>2</th>\n",
       "      <td>0.018182</td>\n",
       "      <td>0.003268</td>\n",
       "      <td>0.000000</td>\n",
       "      <td>0.0020</td>\n",
       "      <td>0.000000</td>\n",
       "      <td>1.000000</td>\n",
       "      <td>0.000000</td>\n",
       "      <td>0.136835</td>\n",
       "      <td>0.076369</td>\n",
       "      <td>0.091712</td>\n",
       "      <td>0.275531</td>\n",
       "      <td>0.235422</td>\n",
       "      <td>0.536514</td>\n",
       "      <td>0.219697</td>\n",
       "      <td>0.231116</td>\n",
       "      <td>0.765504</td>\n",
       "    </tr>\n",
       "    <tr>\n",
       "      <th>3</th>\n",
       "      <td>0.009091</td>\n",
       "      <td>0.003268</td>\n",
       "      <td>0.023256</td>\n",
       "      <td>0.0030</td>\n",
       "      <td>0.000000</td>\n",
       "      <td>0.172131</td>\n",
       "      <td>0.102941</td>\n",
       "      <td>0.273670</td>\n",
       "      <td>0.177037</td>\n",
       "      <td>0.104300</td>\n",
       "      <td>0.204577</td>\n",
       "      <td>0.411564</td>\n",
       "      <td>0.362383</td>\n",
       "      <td>0.200758</td>\n",
       "      <td>0.299212</td>\n",
       "      <td>0.765504</td>\n",
       "    </tr>\n",
       "    <tr>\n",
       "      <th>4</th>\n",
       "      <td>0.000000</td>\n",
       "      <td>0.019608</td>\n",
       "      <td>0.000000</td>\n",
       "      <td>0.1265</td>\n",
       "      <td>0.171717</td>\n",
       "      <td>0.344262</td>\n",
       "      <td>0.044649</td>\n",
       "      <td>0.778146</td>\n",
       "      <td>0.088330</td>\n",
       "      <td>0.834019</td>\n",
       "      <td>1.000000</td>\n",
       "      <td>1.000000</td>\n",
       "      <td>0.885917</td>\n",
       "      <td>0.248036</td>\n",
       "      <td>1.000000</td>\n",
       "      <td>0.415032</td>\n",
       "    </tr>\n",
       "    <tr>\n",
       "      <th>5</th>\n",
       "      <td>0.036364</td>\n",
       "      <td>0.058824</td>\n",
       "      <td>0.162791</td>\n",
       "      <td>0.0500</td>\n",
       "      <td>0.191919</td>\n",
       "      <td>0.254098</td>\n",
       "      <td>0.247059</td>\n",
       "      <td>0.514500</td>\n",
       "      <td>0.279926</td>\n",
       "      <td>0.755345</td>\n",
       "      <td>0.176454</td>\n",
       "      <td>0.532671</td>\n",
       "      <td>0.779704</td>\n",
       "      <td>0.427866</td>\n",
       "      <td>0.745788</td>\n",
       "      <td>0.845116</td>\n",
       "    </tr>\n",
       "    <tr>\n",
       "      <th>6</th>\n",
       "      <td>0.136364</td>\n",
       "      <td>0.009804</td>\n",
       "      <td>0.000000</td>\n",
       "      <td>0.0775</td>\n",
       "      <td>0.151515</td>\n",
       "      <td>0.081967</td>\n",
       "      <td>0.298861</td>\n",
       "      <td>0.681968</td>\n",
       "      <td>0.338284</td>\n",
       "      <td>0.573309</td>\n",
       "      <td>0.692028</td>\n",
       "      <td>0.541490</td>\n",
       "      <td>0.664970</td>\n",
       "      <td>0.528409</td>\n",
       "      <td>0.524693</td>\n",
       "      <td>0.725994</td>\n",
       "    </tr>\n",
       "    <tr>\n",
       "      <th>7</th>\n",
       "      <td>0.009091</td>\n",
       "      <td>0.000000</td>\n",
       "      <td>0.000000</td>\n",
       "      <td>0.0345</td>\n",
       "      <td>0.050505</td>\n",
       "      <td>0.016393</td>\n",
       "      <td>0.000000</td>\n",
       "      <td>0.000000</td>\n",
       "      <td>0.000000</td>\n",
       "      <td>1.000000</td>\n",
       "      <td>0.103223</td>\n",
       "      <td>0.000000</td>\n",
       "      <td>0.000000</td>\n",
       "      <td>0.000000</td>\n",
       "      <td>0.000000</td>\n",
       "      <td>0.000000</td>\n",
       "    </tr>\n",
       "    <tr>\n",
       "      <th>8</th>\n",
       "      <td>0.309091</td>\n",
       "      <td>1.000000</td>\n",
       "      <td>1.000000</td>\n",
       "      <td>1.0000</td>\n",
       "      <td>0.510101</td>\n",
       "      <td>0.139344</td>\n",
       "      <td>0.618665</td>\n",
       "      <td>1.000000</td>\n",
       "      <td>0.332216</td>\n",
       "      <td>0.716229</td>\n",
       "      <td>0.337156</td>\n",
       "      <td>0.743482</td>\n",
       "      <td>0.633001</td>\n",
       "      <td>0.391777</td>\n",
       "      <td>0.826300</td>\n",
       "      <td>0.692359</td>\n",
       "    </tr>\n",
       "    <tr>\n",
       "      <th>9</th>\n",
       "      <td>0.000000</td>\n",
       "      <td>0.039216</td>\n",
       "      <td>0.186047</td>\n",
       "      <td>0.0670</td>\n",
       "      <td>0.000000</td>\n",
       "      <td>0.245902</td>\n",
       "      <td>0.315394</td>\n",
       "      <td>0.596833</td>\n",
       "      <td>0.252593</td>\n",
       "      <td>0.110854</td>\n",
       "      <td>0.127673</td>\n",
       "      <td>0.374684</td>\n",
       "      <td>0.473776</td>\n",
       "      <td>0.370890</td>\n",
       "      <td>0.308613</td>\n",
       "      <td>0.517937</td>\n",
       "    </tr>\n",
       "    <tr>\n",
       "      <th>10</th>\n",
       "      <td>0.000000</td>\n",
       "      <td>0.000000</td>\n",
       "      <td>0.000000</td>\n",
       "      <td>0.0015</td>\n",
       "      <td>0.000000</td>\n",
       "      <td>0.008197</td>\n",
       "      <td>0.000000</td>\n",
       "      <td>0.000000</td>\n",
       "      <td>0.000000</td>\n",
       "      <td>0.598774</td>\n",
       "      <td>0.000000</td>\n",
       "      <td>0.000000</td>\n",
       "      <td>0.000000</td>\n",
       "      <td>0.000000</td>\n",
       "      <td>0.090280</td>\n",
       "      <td>0.000000</td>\n",
       "    </tr>\n",
       "    <tr>\n",
       "      <th>11</th>\n",
       "      <td>0.000000</td>\n",
       "      <td>0.000000</td>\n",
       "      <td>0.000000</td>\n",
       "      <td>0.0120</td>\n",
       "      <td>0.000000</td>\n",
       "      <td>0.024590</td>\n",
       "      <td>0.000000</td>\n",
       "      <td>0.136835</td>\n",
       "      <td>0.406143</td>\n",
       "      <td>0.631050</td>\n",
       "      <td>0.353542</td>\n",
       "      <td>0.646537</td>\n",
       "      <td>0.752641</td>\n",
       "      <td>0.875000</td>\n",
       "      <td>0.886129</td>\n",
       "      <td>0.803779</td>\n",
       "    </tr>\n",
       "    <tr>\n",
       "      <th>12</th>\n",
       "      <td>0.000000</td>\n",
       "      <td>0.000000</td>\n",
       "      <td>0.000000</td>\n",
       "      <td>0.0105</td>\n",
       "      <td>0.000000</td>\n",
       "      <td>0.450820</td>\n",
       "      <td>0.000000</td>\n",
       "      <td>0.164202</td>\n",
       "      <td>0.116636</td>\n",
       "      <td>0.182466</td>\n",
       "      <td>0.314202</td>\n",
       "      <td>0.175239</td>\n",
       "      <td>0.432640</td>\n",
       "      <td>1.000000</td>\n",
       "      <td>0.288895</td>\n",
       "      <td>0.918605</td>\n",
       "    </tr>\n",
       "    <tr>\n",
       "      <th>13</th>\n",
       "      <td>0.236364</td>\n",
       "      <td>0.039216</td>\n",
       "      <td>0.976744</td>\n",
       "      <td>0.8000</td>\n",
       "      <td>0.333333</td>\n",
       "      <td>0.262295</td>\n",
       "      <td>0.233074</td>\n",
       "      <td>0.525395</td>\n",
       "      <td>0.266439</td>\n",
       "      <td>0.651492</td>\n",
       "      <td>0.951532</td>\n",
       "      <td>0.604074</td>\n",
       "      <td>0.793029</td>\n",
       "      <td>0.377165</td>\n",
       "      <td>0.686327</td>\n",
       "      <td>0.788613</td>\n",
       "    </tr>\n",
       "    <tr>\n",
       "      <th>14</th>\n",
       "      <td>0.354545</td>\n",
       "      <td>0.774510</td>\n",
       "      <td>0.697674</td>\n",
       "      <td>0.5500</td>\n",
       "      <td>0.030303</td>\n",
       "      <td>0.155738</td>\n",
       "      <td>0.418353</td>\n",
       "      <td>0.796197</td>\n",
       "      <td>0.323692</td>\n",
       "      <td>0.388010</td>\n",
       "      <td>0.504299</td>\n",
       "      <td>0.526287</td>\n",
       "      <td>0.541620</td>\n",
       "      <td>0.452034</td>\n",
       "      <td>0.758099</td>\n",
       "      <td>0.823070</td>\n",
       "    </tr>\n",
       "    <tr>\n",
       "      <th>15</th>\n",
       "      <td>0.109091</td>\n",
       "      <td>0.000000</td>\n",
       "      <td>0.000000</td>\n",
       "      <td>0.0160</td>\n",
       "      <td>0.196970</td>\n",
       "      <td>0.196721</td>\n",
       "      <td>0.235294</td>\n",
       "      <td>0.312766</td>\n",
       "      <td>0.190426</td>\n",
       "      <td>0.242811</td>\n",
       "      <td>0.365651</td>\n",
       "      <td>0.434447</td>\n",
       "      <td>0.503129</td>\n",
       "      <td>0.653409</td>\n",
       "      <td>0.369084</td>\n",
       "      <td>0.721761</td>\n",
       "    </tr>\n",
       "    <tr>\n",
       "      <th>16</th>\n",
       "      <td>0.181818</td>\n",
       "      <td>0.075163</td>\n",
       "      <td>0.069767</td>\n",
       "      <td>0.1455</td>\n",
       "      <td>0.065657</td>\n",
       "      <td>0.081967</td>\n",
       "      <td>0.499160</td>\n",
       "      <td>0.681382</td>\n",
       "      <td>0.311312</td>\n",
       "      <td>0.543451</td>\n",
       "      <td>0.372502</td>\n",
       "      <td>0.457919</td>\n",
       "      <td>0.573741</td>\n",
       "      <td>0.400809</td>\n",
       "      <td>0.398357</td>\n",
       "      <td>0.693640</td>\n",
       "    </tr>\n",
       "    <tr>\n",
       "      <th>17</th>\n",
       "      <td>1.000000</td>\n",
       "      <td>0.078431</td>\n",
       "      <td>0.255814</td>\n",
       "      <td>0.4165</td>\n",
       "      <td>0.111111</td>\n",
       "      <td>0.122951</td>\n",
       "      <td>0.169654</td>\n",
       "      <td>0.647177</td>\n",
       "      <td>0.176098</td>\n",
       "      <td>0.697501</td>\n",
       "      <td>0.627515</td>\n",
       "      <td>0.695359</td>\n",
       "      <td>0.702702</td>\n",
       "      <td>0.374256</td>\n",
       "      <td>0.657865</td>\n",
       "      <td>0.753019</td>\n",
       "    </tr>\n",
       "    <tr>\n",
       "      <th>18</th>\n",
       "      <td>0.063636</td>\n",
       "      <td>0.029412</td>\n",
       "      <td>0.046512</td>\n",
       "      <td>0.0150</td>\n",
       "      <td>0.000000</td>\n",
       "      <td>0.295082</td>\n",
       "      <td>0.029412</td>\n",
       "      <td>0.430053</td>\n",
       "      <td>0.118024</td>\n",
       "      <td>0.368190</td>\n",
       "      <td>0.214014</td>\n",
       "      <td>0.443252</td>\n",
       "      <td>0.672126</td>\n",
       "      <td>0.312639</td>\n",
       "      <td>0.375240</td>\n",
       "      <td>0.820183</td>\n",
       "    </tr>\n",
       "    <tr>\n",
       "      <th>19</th>\n",
       "      <td>0.063636</td>\n",
       "      <td>0.075163</td>\n",
       "      <td>0.069767</td>\n",
       "      <td>0.0595</td>\n",
       "      <td>0.186869</td>\n",
       "      <td>0.139344</td>\n",
       "      <td>0.130031</td>\n",
       "      <td>0.446514</td>\n",
       "      <td>0.154930</td>\n",
       "      <td>0.436176</td>\n",
       "      <td>0.156354</td>\n",
       "      <td>0.482333</td>\n",
       "      <td>0.753163</td>\n",
       "      <td>0.372159</td>\n",
       "      <td>0.433094</td>\n",
       "      <td>0.717156</td>\n",
       "    </tr>\n",
       "    <tr>\n",
       "      <th>20</th>\n",
       "      <td>0.000000</td>\n",
       "      <td>0.003268</td>\n",
       "      <td>0.000000</td>\n",
       "      <td>0.0070</td>\n",
       "      <td>0.000000</td>\n",
       "      <td>0.672131</td>\n",
       "      <td>0.000000</td>\n",
       "      <td>0.342087</td>\n",
       "      <td>0.104139</td>\n",
       "      <td>0.188388</td>\n",
       "      <td>0.033569</td>\n",
       "      <td>0.381632</td>\n",
       "      <td>0.582401</td>\n",
       "      <td>0.258523</td>\n",
       "      <td>0.300932</td>\n",
       "      <td>0.803779</td>\n",
       "    </tr>\n",
       "    <tr>\n",
       "      <th>21</th>\n",
       "      <td>0.009091</td>\n",
       "      <td>0.003268</td>\n",
       "      <td>0.000000</td>\n",
       "      <td>0.2645</td>\n",
       "      <td>0.151515</td>\n",
       "      <td>0.426230</td>\n",
       "      <td>0.000000</td>\n",
       "      <td>0.333281</td>\n",
       "      <td>0.094447</td>\n",
       "      <td>0.387199</td>\n",
       "      <td>0.158018</td>\n",
       "      <td>0.358300</td>\n",
       "      <td>0.739233</td>\n",
       "      <td>0.299730</td>\n",
       "      <td>0.327644</td>\n",
       "      <td>0.895867</td>\n",
       "    </tr>\n",
       "    <tr>\n",
       "      <th>22</th>\n",
       "      <td>0.290909</td>\n",
       "      <td>0.032680</td>\n",
       "      <td>0.441860</td>\n",
       "      <td>0.1390</td>\n",
       "      <td>0.050505</td>\n",
       "      <td>0.122951</td>\n",
       "      <td>0.341912</td>\n",
       "      <td>0.552227</td>\n",
       "      <td>0.337337</td>\n",
       "      <td>0.880249</td>\n",
       "      <td>0.648140</td>\n",
       "      <td>0.685322</td>\n",
       "      <td>0.713491</td>\n",
       "      <td>0.368141</td>\n",
       "      <td>0.925446</td>\n",
       "      <td>0.873495</td>\n",
       "    </tr>\n",
       "    <tr>\n",
       "      <th>23</th>\n",
       "      <td>0.290909</td>\n",
       "      <td>0.032680</td>\n",
       "      <td>0.441860</td>\n",
       "      <td>0.1400</td>\n",
       "      <td>0.050505</td>\n",
       "      <td>0.122951</td>\n",
       "      <td>0.341912</td>\n",
       "      <td>0.552227</td>\n",
       "      <td>0.337337</td>\n",
       "      <td>0.880249</td>\n",
       "      <td>0.648140</td>\n",
       "      <td>0.685322</td>\n",
       "      <td>0.713491</td>\n",
       "      <td>0.368141</td>\n",
       "      <td>0.925446</td>\n",
       "      <td>0.873495</td>\n",
       "    </tr>\n",
       "    <tr>\n",
       "      <th>24</th>\n",
       "      <td>0.018182</td>\n",
       "      <td>0.016340</td>\n",
       "      <td>0.000000</td>\n",
       "      <td>0.0095</td>\n",
       "      <td>0.000000</td>\n",
       "      <td>0.163934</td>\n",
       "      <td>0.000000</td>\n",
       "      <td>0.342087</td>\n",
       "      <td>0.145795</td>\n",
       "      <td>0.392891</td>\n",
       "      <td>0.367280</td>\n",
       "      <td>0.480091</td>\n",
       "      <td>0.706994</td>\n",
       "      <td>0.616477</td>\n",
       "      <td>0.469100</td>\n",
       "      <td>0.574128</td>\n",
       "    </tr>\n",
       "    <tr>\n",
       "      <th>25</th>\n",
       "      <td>0.027273</td>\n",
       "      <td>0.052288</td>\n",
       "      <td>0.069767</td>\n",
       "      <td>0.0500</td>\n",
       "      <td>0.111111</td>\n",
       "      <td>0.327869</td>\n",
       "      <td>0.181661</td>\n",
       "      <td>0.410505</td>\n",
       "      <td>0.126192</td>\n",
       "      <td>0.341319</td>\n",
       "      <td>0.174087</td>\n",
       "      <td>0.573146</td>\n",
       "      <td>0.682952</td>\n",
       "      <td>0.612968</td>\n",
       "      <td>0.378796</td>\n",
       "      <td>0.621409</td>\n",
       "    </tr>\n",
       "    <tr>\n",
       "      <th>26</th>\n",
       "      <td>0.000000</td>\n",
       "      <td>0.000000</td>\n",
       "      <td>0.000000</td>\n",
       "      <td>0.0270</td>\n",
       "      <td>0.000000</td>\n",
       "      <td>0.131148</td>\n",
       "      <td>0.395294</td>\n",
       "      <td>0.667755</td>\n",
       "      <td>0.439884</td>\n",
       "      <td>0.365533</td>\n",
       "      <td>0.210109</td>\n",
       "      <td>0.460123</td>\n",
       "      <td>0.556241</td>\n",
       "      <td>0.672348</td>\n",
       "      <td>0.473968</td>\n",
       "      <td>0.698140</td>\n",
       "    </tr>\n",
       "    <tr>\n",
       "      <th>27</th>\n",
       "      <td>0.054545</td>\n",
       "      <td>0.000000</td>\n",
       "      <td>0.000000</td>\n",
       "      <td>0.0365</td>\n",
       "      <td>0.000000</td>\n",
       "      <td>0.081967</td>\n",
       "      <td>0.373461</td>\n",
       "      <td>0.458238</td>\n",
       "      <td>0.296433</td>\n",
       "      <td>0.341833</td>\n",
       "      <td>0.497660</td>\n",
       "      <td>0.395766</td>\n",
       "      <td>0.453266</td>\n",
       "      <td>0.308668</td>\n",
       "      <td>0.526170</td>\n",
       "      <td>0.555435</td>\n",
       "    </tr>\n",
       "    <tr>\n",
       "      <th>28</th>\n",
       "      <td>0.072727</td>\n",
       "      <td>0.000000</td>\n",
       "      <td>0.139535</td>\n",
       "      <td>0.0255</td>\n",
       "      <td>0.277778</td>\n",
       "      <td>0.065574</td>\n",
       "      <td>0.000000</td>\n",
       "      <td>0.158905</td>\n",
       "      <td>0.294277</td>\n",
       "      <td>0.230151</td>\n",
       "      <td>0.302117</td>\n",
       "      <td>0.364703</td>\n",
       "      <td>0.477976</td>\n",
       "      <td>0.799120</td>\n",
       "      <td>0.462972</td>\n",
       "      <td>0.829707</td>\n",
       "    </tr>\n",
       "    <tr>\n",
       "      <th>29</th>\n",
       "      <td>0.036364</td>\n",
       "      <td>0.009804</td>\n",
       "      <td>0.000000</td>\n",
       "      <td>0.0225</td>\n",
       "      <td>0.000000</td>\n",
       "      <td>0.155738</td>\n",
       "      <td>0.268542</td>\n",
       "      <td>0.380758</td>\n",
       "      <td>0.204656</td>\n",
       "      <td>0.163840</td>\n",
       "      <td>0.219722</td>\n",
       "      <td>0.421669</td>\n",
       "      <td>0.506365</td>\n",
       "      <td>0.489130</td>\n",
       "      <td>0.318188</td>\n",
       "      <td>0.718908</td>\n",
       "    </tr>\n",
       "    <tr>\n",
       "      <th>30</th>\n",
       "      <td>0.100000</td>\n",
       "      <td>0.065359</td>\n",
       "      <td>0.162791</td>\n",
       "      <td>0.0175</td>\n",
       "      <td>0.000000</td>\n",
       "      <td>0.122951</td>\n",
       "      <td>0.051471</td>\n",
       "      <td>0.307879</td>\n",
       "      <td>0.114553</td>\n",
       "      <td>0.383243</td>\n",
       "      <td>0.043699</td>\n",
       "      <td>0.359329</td>\n",
       "      <td>0.635346</td>\n",
       "      <td>0.416996</td>\n",
       "      <td>0.451398</td>\n",
       "      <td>0.669816</td>\n",
       "    </tr>\n",
       "    <tr>\n",
       "      <th>31</th>\n",
       "      <td>0.027273</td>\n",
       "      <td>0.009804</td>\n",
       "      <td>0.000000</td>\n",
       "      <td>0.0265</td>\n",
       "      <td>0.000000</td>\n",
       "      <td>0.303279</td>\n",
       "      <td>0.228758</td>\n",
       "      <td>0.527068</td>\n",
       "      <td>0.189765</td>\n",
       "      <td>0.536566</td>\n",
       "      <td>0.128713</td>\n",
       "      <td>0.589119</td>\n",
       "      <td>0.767549</td>\n",
       "      <td>0.470539</td>\n",
       "      <td>0.599371</td>\n",
       "      <td>0.901593</td>\n",
       "    </tr>\n",
       "    <tr>\n",
       "      <th>32</th>\n",
       "      <td>0.081818</td>\n",
       "      <td>0.029412</td>\n",
       "      <td>1.000000</td>\n",
       "      <td>0.2130</td>\n",
       "      <td>0.979798</td>\n",
       "      <td>0.303279</td>\n",
       "      <td>0.098262</td>\n",
       "      <td>0.426054</td>\n",
       "      <td>0.105086</td>\n",
       "      <td>0.932619</td>\n",
       "      <td>0.211732</td>\n",
       "      <td>0.477874</td>\n",
       "      <td>0.860843</td>\n",
       "      <td>0.260847</td>\n",
       "      <td>0.659564</td>\n",
       "      <td>0.798560</td>\n",
       "    </tr>\n",
       "    <tr>\n",
       "      <th>33</th>\n",
       "      <td>0.018182</td>\n",
       "      <td>0.003268</td>\n",
       "      <td>0.069767</td>\n",
       "      <td>0.0570</td>\n",
       "      <td>0.000000</td>\n",
       "      <td>0.303279</td>\n",
       "      <td>0.192157</td>\n",
       "      <td>0.553422</td>\n",
       "      <td>0.144406</td>\n",
       "      <td>0.325603</td>\n",
       "      <td>0.042552</td>\n",
       "      <td>0.468638</td>\n",
       "      <td>0.661650</td>\n",
       "      <td>0.494589</td>\n",
       "      <td>0.456060</td>\n",
       "      <td>0.836951</td>\n",
       "    </tr>\n",
       "    <tr>\n",
       "      <th>34</th>\n",
       "      <td>0.090909</td>\n",
       "      <td>0.022876</td>\n",
       "      <td>0.209302</td>\n",
       "      <td>0.2325</td>\n",
       "      <td>0.025253</td>\n",
       "      <td>0.049180</td>\n",
       "      <td>0.237779</td>\n",
       "      <td>0.226773</td>\n",
       "      <td>0.402574</td>\n",
       "      <td>0.558641</td>\n",
       "      <td>0.275524</td>\n",
       "      <td>0.393698</td>\n",
       "      <td>1.000000</td>\n",
       "      <td>0.466991</td>\n",
       "      <td>0.394631</td>\n",
       "      <td>0.743940</td>\n",
       "    </tr>\n",
       "    <tr>\n",
       "      <th>35</th>\n",
       "      <td>0.181818</td>\n",
       "      <td>0.006536</td>\n",
       "      <td>0.139535</td>\n",
       "      <td>0.1760</td>\n",
       "      <td>0.080808</td>\n",
       "      <td>0.147541</td>\n",
       "      <td>0.332339</td>\n",
       "      <td>0.516778</td>\n",
       "      <td>0.109179</td>\n",
       "      <td>0.197071</td>\n",
       "      <td>0.223612</td>\n",
       "      <td>0.334414</td>\n",
       "      <td>0.632912</td>\n",
       "      <td>0.092256</td>\n",
       "      <td>0.296032</td>\n",
       "      <td>0.598025</td>\n",
       "    </tr>\n",
       "    <tr>\n",
       "      <th>36</th>\n",
       "      <td>0.000000</td>\n",
       "      <td>0.000000</td>\n",
       "      <td>0.000000</td>\n",
       "      <td>0.0000</td>\n",
       "      <td>0.161616</td>\n",
       "      <td>0.000000</td>\n",
       "      <td>0.000000</td>\n",
       "      <td>0.248791</td>\n",
       "      <td>0.098459</td>\n",
       "      <td>0.615263</td>\n",
       "      <td>0.006042</td>\n",
       "      <td>0.221483</td>\n",
       "      <td>0.575929</td>\n",
       "      <td>0.185950</td>\n",
       "      <td>0.406258</td>\n",
       "      <td>0.918605</td>\n",
       "    </tr>\n",
       "    <tr>\n",
       "      <th>37</th>\n",
       "      <td>0.000000</td>\n",
       "      <td>0.000000</td>\n",
       "      <td>0.000000</td>\n",
       "      <td>0.0010</td>\n",
       "      <td>0.000000</td>\n",
       "      <td>0.024590</td>\n",
       "      <td>0.316742</td>\n",
       "      <td>0.414014</td>\n",
       "      <td>0.085448</td>\n",
       "      <td>0.000000</td>\n",
       "      <td>0.268384</td>\n",
       "      <td>0.255120</td>\n",
       "      <td>0.404196</td>\n",
       "      <td>0.311189</td>\n",
       "      <td>0.173913</td>\n",
       "      <td>0.494633</td>\n",
       "    </tr>\n",
       "    <tr>\n",
       "      <th>38</th>\n",
       "      <td>0.000000</td>\n",
       "      <td>0.013072</td>\n",
       "      <td>0.023256</td>\n",
       "      <td>0.0000</td>\n",
       "      <td>0.000000</td>\n",
       "      <td>0.000000</td>\n",
       "      <td>0.274510</td>\n",
       "      <td>0.602074</td>\n",
       "      <td>0.142555</td>\n",
       "      <td>0.118041</td>\n",
       "      <td>0.398002</td>\n",
       "      <td>0.437539</td>\n",
       "      <td>0.502521</td>\n",
       "      <td>0.545983</td>\n",
       "      <td>0.277113</td>\n",
       "      <td>0.510336</td>\n",
       "    </tr>\n",
       "    <tr>\n",
       "      <th>39</th>\n",
       "      <td>0.000000</td>\n",
       "      <td>0.000000</td>\n",
       "      <td>0.000000</td>\n",
       "      <td>0.0070</td>\n",
       "      <td>0.000000</td>\n",
       "      <td>0.131148</td>\n",
       "      <td>0.000000</td>\n",
       "      <td>0.367744</td>\n",
       "      <td>0.091122</td>\n",
       "      <td>0.150383</td>\n",
       "      <td>0.128810</td>\n",
       "      <td>0.354372</td>\n",
       "      <td>0.596822</td>\n",
       "      <td>0.310850</td>\n",
       "      <td>0.274338</td>\n",
       "      <td>0.803779</td>\n",
       "    </tr>\n",
       "    <tr>\n",
       "      <th>40</th>\n",
       "      <td>0.009091</td>\n",
       "      <td>0.032680</td>\n",
       "      <td>0.046512</td>\n",
       "      <td>0.0620</td>\n",
       "      <td>0.030303</td>\n",
       "      <td>0.221311</td>\n",
       "      <td>0.068627</td>\n",
       "      <td>0.395301</td>\n",
       "      <td>0.225635</td>\n",
       "      <td>0.373208</td>\n",
       "      <td>0.135305</td>\n",
       "      <td>0.410936</td>\n",
       "      <td>0.657724</td>\n",
       "      <td>0.791035</td>\n",
       "      <td>0.451398</td>\n",
       "      <td>0.854813</td>\n",
       "    </tr>\n",
       "    <tr>\n",
       "      <th>41</th>\n",
       "      <td>0.000000</td>\n",
       "      <td>0.000000</td>\n",
       "      <td>0.000000</td>\n",
       "      <td>0.0120</td>\n",
       "      <td>1.000000</td>\n",
       "      <td>0.049180</td>\n",
       "      <td>0.468871</td>\n",
       "      <td>0.537352</td>\n",
       "      <td>0.159933</td>\n",
       "      <td>0.338154</td>\n",
       "      <td>0.120440</td>\n",
       "      <td>0.439880</td>\n",
       "      <td>0.693644</td>\n",
       "      <td>0.224287</td>\n",
       "      <td>0.347491</td>\n",
       "      <td>0.613521</td>\n",
       "    </tr>\n",
       "    <tr>\n",
       "      <th>42</th>\n",
       "      <td>0.000000</td>\n",
       "      <td>0.000000</td>\n",
       "      <td>0.441860</td>\n",
       "      <td>0.0030</td>\n",
       "      <td>0.000000</td>\n",
       "      <td>0.008197</td>\n",
       "      <td>0.581315</td>\n",
       "      <td>0.478922</td>\n",
       "      <td>0.125580</td>\n",
       "      <td>0.033343</td>\n",
       "      <td>0.391295</td>\n",
       "      <td>0.324776</td>\n",
       "      <td>0.520056</td>\n",
       "      <td>0.196858</td>\n",
       "      <td>0.245003</td>\n",
       "      <td>0.493075</td>\n",
       "    </tr>\n",
       "    <tr>\n",
       "      <th>43</th>\n",
       "      <td>0.000000</td>\n",
       "      <td>0.000000</td>\n",
       "      <td>0.023256</td>\n",
       "      <td>0.0860</td>\n",
       "      <td>0.257576</td>\n",
       "      <td>0.057377</td>\n",
       "      <td>0.038205</td>\n",
       "      <td>0.513484</td>\n",
       "      <td>0.281283</td>\n",
       "      <td>0.313918</td>\n",
       "      <td>0.204924</td>\n",
       "      <td>0.263022</td>\n",
       "      <td>0.447663</td>\n",
       "      <td>0.537722</td>\n",
       "      <td>0.393742</td>\n",
       "      <td>0.767082</td>\n",
       "    </tr>\n",
       "    <tr>\n",
       "      <th>44</th>\n",
       "      <td>0.045455</td>\n",
       "      <td>0.094771</td>\n",
       "      <td>0.372093</td>\n",
       "      <td>0.0440</td>\n",
       "      <td>0.232323</td>\n",
       "      <td>0.139344</td>\n",
       "      <td>1.000000</td>\n",
       "      <td>0.308422</td>\n",
       "      <td>0.358371</td>\n",
       "      <td>0.009406</td>\n",
       "      <td>0.530625</td>\n",
       "      <td>0.274914</td>\n",
       "      <td>0.385954</td>\n",
       "      <td>0.137097</td>\n",
       "      <td>0.265352</td>\n",
       "      <td>0.619694</td>\n",
       "    </tr>\n",
       "    <tr>\n",
       "      <th>45</th>\n",
       "      <td>0.490909</td>\n",
       "      <td>0.075163</td>\n",
       "      <td>0.348837</td>\n",
       "      <td>0.8625</td>\n",
       "      <td>0.065657</td>\n",
       "      <td>0.073770</td>\n",
       "      <td>0.508815</td>\n",
       "      <td>0.896846</td>\n",
       "      <td>0.343283</td>\n",
       "      <td>0.227048</td>\n",
       "      <td>0.082656</td>\n",
       "      <td>0.432548</td>\n",
       "      <td>0.555501</td>\n",
       "      <td>0.511189</td>\n",
       "      <td>0.409701</td>\n",
       "      <td>0.728382</td>\n",
       "    </tr>\n",
       "    <tr>\n",
       "      <th>46</th>\n",
       "      <td>0.045455</td>\n",
       "      <td>0.075163</td>\n",
       "      <td>0.348837</td>\n",
       "      <td>0.0440</td>\n",
       "      <td>0.085859</td>\n",
       "      <td>0.090164</td>\n",
       "      <td>0.233074</td>\n",
       "      <td>0.273670</td>\n",
       "      <td>0.187058</td>\n",
       "      <td>0.184101</td>\n",
       "      <td>0.137885</td>\n",
       "      <td>0.366817</td>\n",
       "      <td>0.449714</td>\n",
       "      <td>0.556818</td>\n",
       "      <td>0.384213</td>\n",
       "      <td>0.632624</td>\n",
       "    </tr>\n",
       "    <tr>\n",
       "      <th>47</th>\n",
       "      <td>0.000000</td>\n",
       "      <td>0.000000</td>\n",
       "      <td>0.255814</td>\n",
       "      <td>0.0280</td>\n",
       "      <td>0.020202</td>\n",
       "      <td>0.016393</td>\n",
       "      <td>0.420814</td>\n",
       "      <td>0.645079</td>\n",
       "      <td>0.205990</td>\n",
       "      <td>0.245472</td>\n",
       "      <td>0.119262</td>\n",
       "      <td>0.405979</td>\n",
       "      <td>0.592356</td>\n",
       "      <td>0.500514</td>\n",
       "      <td>0.328041</td>\n",
       "      <td>0.701572</td>\n",
       "    </tr>\n",
       "    <tr>\n",
       "      <th>48</th>\n",
       "      <td>0.209091</td>\n",
       "      <td>0.232026</td>\n",
       "      <td>0.232558</td>\n",
       "      <td>0.2370</td>\n",
       "      <td>0.080808</td>\n",
       "      <td>0.114754</td>\n",
       "      <td>0.359743</td>\n",
       "      <td>0.657511</td>\n",
       "      <td>0.245920</td>\n",
       "      <td>0.500184</td>\n",
       "      <td>0.084038</td>\n",
       "      <td>0.430811</td>\n",
       "      <td>0.666517</td>\n",
       "      <td>0.275453</td>\n",
       "      <td>0.496004</td>\n",
       "      <td>0.819269</td>\n",
       "    </tr>\n",
       "    <tr>\n",
       "      <th>49</th>\n",
       "      <td>0.009091</td>\n",
       "      <td>0.000000</td>\n",
       "      <td>0.232558</td>\n",
       "      <td>0.0750</td>\n",
       "      <td>0.176768</td>\n",
       "      <td>0.024590</td>\n",
       "      <td>0.080814</td>\n",
       "      <td>0.529436</td>\n",
       "      <td>0.225408</td>\n",
       "      <td>0.306313</td>\n",
       "      <td>0.122945</td>\n",
       "      <td>0.423942</td>\n",
       "      <td>0.615749</td>\n",
       "      <td>0.467372</td>\n",
       "      <td>0.475222</td>\n",
       "      <td>0.725440</td>\n",
       "    </tr>\n",
       "  </tbody>\n",
       "</table>\n",
       "</div>"
      ],
      "text/plain": [
       "         NOB         V        SH      CS       CDR        TD       NOC  \\\n",
       "0   0.200000  0.055556  0.069767  0.0845  0.070707  0.081967  0.450368   \n",
       "1   0.100000  0.065359  0.325581  0.2470  0.237374  0.491803  0.586374   \n",
       "2   0.018182  0.003268  0.000000  0.0020  0.000000  1.000000  0.000000   \n",
       "3   0.009091  0.003268  0.023256  0.0030  0.000000  0.172131  0.102941   \n",
       "4   0.000000  0.019608  0.000000  0.1265  0.171717  0.344262  0.044649   \n",
       "5   0.036364  0.058824  0.162791  0.0500  0.191919  0.254098  0.247059   \n",
       "6   0.136364  0.009804  0.000000  0.0775  0.151515  0.081967  0.298861   \n",
       "7   0.009091  0.000000  0.000000  0.0345  0.050505  0.016393  0.000000   \n",
       "8   0.309091  1.000000  1.000000  1.0000  0.510101  0.139344  0.618665   \n",
       "9   0.000000  0.039216  0.186047  0.0670  0.000000  0.245902  0.315394   \n",
       "10  0.000000  0.000000  0.000000  0.0015  0.000000  0.008197  0.000000   \n",
       "11  0.000000  0.000000  0.000000  0.0120  0.000000  0.024590  0.000000   \n",
       "12  0.000000  0.000000  0.000000  0.0105  0.000000  0.450820  0.000000   \n",
       "13  0.236364  0.039216  0.976744  0.8000  0.333333  0.262295  0.233074   \n",
       "14  0.354545  0.774510  0.697674  0.5500  0.030303  0.155738  0.418353   \n",
       "15  0.109091  0.000000  0.000000  0.0160  0.196970  0.196721  0.235294   \n",
       "16  0.181818  0.075163  0.069767  0.1455  0.065657  0.081967  0.499160   \n",
       "17  1.000000  0.078431  0.255814  0.4165  0.111111  0.122951  0.169654   \n",
       "18  0.063636  0.029412  0.046512  0.0150  0.000000  0.295082  0.029412   \n",
       "19  0.063636  0.075163  0.069767  0.0595  0.186869  0.139344  0.130031   \n",
       "20  0.000000  0.003268  0.000000  0.0070  0.000000  0.672131  0.000000   \n",
       "21  0.009091  0.003268  0.000000  0.2645  0.151515  0.426230  0.000000   \n",
       "22  0.290909  0.032680  0.441860  0.1390  0.050505  0.122951  0.341912   \n",
       "23  0.290909  0.032680  0.441860  0.1400  0.050505  0.122951  0.341912   \n",
       "24  0.018182  0.016340  0.000000  0.0095  0.000000  0.163934  0.000000   \n",
       "25  0.027273  0.052288  0.069767  0.0500  0.111111  0.327869  0.181661   \n",
       "26  0.000000  0.000000  0.000000  0.0270  0.000000  0.131148  0.395294   \n",
       "27  0.054545  0.000000  0.000000  0.0365  0.000000  0.081967  0.373461   \n",
       "28  0.072727  0.000000  0.139535  0.0255  0.277778  0.065574  0.000000   \n",
       "29  0.036364  0.009804  0.000000  0.0225  0.000000  0.155738  0.268542   \n",
       "30  0.100000  0.065359  0.162791  0.0175  0.000000  0.122951  0.051471   \n",
       "31  0.027273  0.009804  0.000000  0.0265  0.000000  0.303279  0.228758   \n",
       "32  0.081818  0.029412  1.000000  0.2130  0.979798  0.303279  0.098262   \n",
       "33  0.018182  0.003268  0.069767  0.0570  0.000000  0.303279  0.192157   \n",
       "34  0.090909  0.022876  0.209302  0.2325  0.025253  0.049180  0.237779   \n",
       "35  0.181818  0.006536  0.139535  0.1760  0.080808  0.147541  0.332339   \n",
       "36  0.000000  0.000000  0.000000  0.0000  0.161616  0.000000  0.000000   \n",
       "37  0.000000  0.000000  0.000000  0.0010  0.000000  0.024590  0.316742   \n",
       "38  0.000000  0.013072  0.023256  0.0000  0.000000  0.000000  0.274510   \n",
       "39  0.000000  0.000000  0.000000  0.0070  0.000000  0.131148  0.000000   \n",
       "40  0.009091  0.032680  0.046512  0.0620  0.030303  0.221311  0.068627   \n",
       "41  0.000000  0.000000  0.000000  0.0120  1.000000  0.049180  0.468871   \n",
       "42  0.000000  0.000000  0.441860  0.0030  0.000000  0.008197  0.581315   \n",
       "43  0.000000  0.000000  0.023256  0.0860  0.257576  0.057377  0.038205   \n",
       "44  0.045455  0.094771  0.372093  0.0440  0.232323  0.139344  1.000000   \n",
       "45  0.490909  0.075163  0.348837  0.8625  0.065657  0.073770  0.508815   \n",
       "46  0.045455  0.075163  0.348837  0.0440  0.085859  0.090164  0.233074   \n",
       "47  0.000000  0.000000  0.255814  0.0280  0.020202  0.016393  0.420814   \n",
       "48  0.209091  0.232026  0.232558  0.2370  0.080808  0.114754  0.359743   \n",
       "49  0.009091  0.000000  0.232558  0.0750  0.176768  0.024590  0.080814   \n",
       "\n",
       "         CBO       RFC       LOC      CLOC     FanIn    FanOut      LCOM  \\\n",
       "0   0.547340  0.241690  0.328644  0.215585  0.467183  0.678344  0.483014   \n",
       "1   0.604499  1.000000  0.295288  0.624553  0.432401  0.423548  0.396145   \n",
       "2   0.136835  0.076369  0.091712  0.275531  0.235422  0.536514  0.219697   \n",
       "3   0.273670  0.177037  0.104300  0.204577  0.411564  0.362383  0.200758   \n",
       "4   0.778146  0.088330  0.834019  1.000000  1.000000  0.885917  0.248036   \n",
       "5   0.514500  0.279926  0.755345  0.176454  0.532671  0.779704  0.427866   \n",
       "6   0.681968  0.338284  0.573309  0.692028  0.541490  0.664970  0.528409   \n",
       "7   0.000000  0.000000  1.000000  0.103223  0.000000  0.000000  0.000000   \n",
       "8   1.000000  0.332216  0.716229  0.337156  0.743482  0.633001  0.391777   \n",
       "9   0.596833  0.252593  0.110854  0.127673  0.374684  0.473776  0.370890   \n",
       "10  0.000000  0.000000  0.598774  0.000000  0.000000  0.000000  0.000000   \n",
       "11  0.136835  0.406143  0.631050  0.353542  0.646537  0.752641  0.875000   \n",
       "12  0.164202  0.116636  0.182466  0.314202  0.175239  0.432640  1.000000   \n",
       "13  0.525395  0.266439  0.651492  0.951532  0.604074  0.793029  0.377165   \n",
       "14  0.796197  0.323692  0.388010  0.504299  0.526287  0.541620  0.452034   \n",
       "15  0.312766  0.190426  0.242811  0.365651  0.434447  0.503129  0.653409   \n",
       "16  0.681382  0.311312  0.543451  0.372502  0.457919  0.573741  0.400809   \n",
       "17  0.647177  0.176098  0.697501  0.627515  0.695359  0.702702  0.374256   \n",
       "18  0.430053  0.118024  0.368190  0.214014  0.443252  0.672126  0.312639   \n",
       "19  0.446514  0.154930  0.436176  0.156354  0.482333  0.753163  0.372159   \n",
       "20  0.342087  0.104139  0.188388  0.033569  0.381632  0.582401  0.258523   \n",
       "21  0.333281  0.094447  0.387199  0.158018  0.358300  0.739233  0.299730   \n",
       "22  0.552227  0.337337  0.880249  0.648140  0.685322  0.713491  0.368141   \n",
       "23  0.552227  0.337337  0.880249  0.648140  0.685322  0.713491  0.368141   \n",
       "24  0.342087  0.145795  0.392891  0.367280  0.480091  0.706994  0.616477   \n",
       "25  0.410505  0.126192  0.341319  0.174087  0.573146  0.682952  0.612968   \n",
       "26  0.667755  0.439884  0.365533  0.210109  0.460123  0.556241  0.672348   \n",
       "27  0.458238  0.296433  0.341833  0.497660  0.395766  0.453266  0.308668   \n",
       "28  0.158905  0.294277  0.230151  0.302117  0.364703  0.477976  0.799120   \n",
       "29  0.380758  0.204656  0.163840  0.219722  0.421669  0.506365  0.489130   \n",
       "30  0.307879  0.114553  0.383243  0.043699  0.359329  0.635346  0.416996   \n",
       "31  0.527068  0.189765  0.536566  0.128713  0.589119  0.767549  0.470539   \n",
       "32  0.426054  0.105086  0.932619  0.211732  0.477874  0.860843  0.260847   \n",
       "33  0.553422  0.144406  0.325603  0.042552  0.468638  0.661650  0.494589   \n",
       "34  0.226773  0.402574  0.558641  0.275524  0.393698  1.000000  0.466991   \n",
       "35  0.516778  0.109179  0.197071  0.223612  0.334414  0.632912  0.092256   \n",
       "36  0.248791  0.098459  0.615263  0.006042  0.221483  0.575929  0.185950   \n",
       "37  0.414014  0.085448  0.000000  0.268384  0.255120  0.404196  0.311189   \n",
       "38  0.602074  0.142555  0.118041  0.398002  0.437539  0.502521  0.545983   \n",
       "39  0.367744  0.091122  0.150383  0.128810  0.354372  0.596822  0.310850   \n",
       "40  0.395301  0.225635  0.373208  0.135305  0.410936  0.657724  0.791035   \n",
       "41  0.537352  0.159933  0.338154  0.120440  0.439880  0.693644  0.224287   \n",
       "42  0.478922  0.125580  0.033343  0.391295  0.324776  0.520056  0.196858   \n",
       "43  0.513484  0.281283  0.313918  0.204924  0.263022  0.447663  0.537722   \n",
       "44  0.308422  0.358371  0.009406  0.530625  0.274914  0.385954  0.137097   \n",
       "45  0.896846  0.343283  0.227048  0.082656  0.432548  0.555501  0.511189   \n",
       "46  0.273670  0.187058  0.184101  0.137885  0.366817  0.449714  0.556818   \n",
       "47  0.645079  0.205990  0.245472  0.119262  0.405979  0.592356  0.500514   \n",
       "48  0.657511  0.245920  0.500184  0.084038  0.430811  0.666517  0.275453   \n",
       "49  0.529436  0.225408  0.306313  0.122945  0.423942  0.615749  0.467372   \n",
       "\n",
       "         WMC       DIT  \n",
       "0   0.493334  0.904251  \n",
       "1   0.465703  1.000000  \n",
       "2   0.231116  0.765504  \n",
       "3   0.299212  0.765504  \n",
       "4   1.000000  0.415032  \n",
       "5   0.745788  0.845116  \n",
       "6   0.524693  0.725994  \n",
       "7   0.000000  0.000000  \n",
       "8   0.826300  0.692359  \n",
       "9   0.308613  0.517937  \n",
       "10  0.090280  0.000000  \n",
       "11  0.886129  0.803779  \n",
       "12  0.288895  0.918605  \n",
       "13  0.686327  0.788613  \n",
       "14  0.758099  0.823070  \n",
       "15  0.369084  0.721761  \n",
       "16  0.398357  0.693640  \n",
       "17  0.657865  0.753019  \n",
       "18  0.375240  0.820183  \n",
       "19  0.433094  0.717156  \n",
       "20  0.300932  0.803779  \n",
       "21  0.327644  0.895867  \n",
       "22  0.925446  0.873495  \n",
       "23  0.925446  0.873495  \n",
       "24  0.469100  0.574128  \n",
       "25  0.378796  0.621409  \n",
       "26  0.473968  0.698140  \n",
       "27  0.526170  0.555435  \n",
       "28  0.462972  0.829707  \n",
       "29  0.318188  0.718908  \n",
       "30  0.451398  0.669816  \n",
       "31  0.599371  0.901593  \n",
       "32  0.659564  0.798560  \n",
       "33  0.456060  0.836951  \n",
       "34  0.394631  0.743940  \n",
       "35  0.296032  0.598025  \n",
       "36  0.406258  0.918605  \n",
       "37  0.173913  0.494633  \n",
       "38  0.277113  0.510336  \n",
       "39  0.274338  0.803779  \n",
       "40  0.451398  0.854813  \n",
       "41  0.347491  0.613521  \n",
       "42  0.245003  0.493075  \n",
       "43  0.393742  0.767082  \n",
       "44  0.265352  0.619694  \n",
       "45  0.409701  0.728382  \n",
       "46  0.384213  0.632624  \n",
       "47  0.328041  0.701572  \n",
       "48  0.496004  0.819269  \n",
       "49  0.475222  0.725440  "
      ]
     },
     "execution_count": 5,
     "metadata": {},
     "output_type": "execute_result"
    }
   ],
   "source": [
    "#Min max scaler for all data\n",
    "minmaxscaled = pd.DataFrame(MinMaxScaler().fit_transform(data.loc[:,\"NOB\":]),columns = [\"NOB\",\"V\",\"SH\",\"CS\",\"CDR\",\"TD\",\"NOC\",\"CBO\",\"RFC\",\"LOC\",\"CLOC\",\"FanIn\",\"FanOut\",\"LCOM\",\"WMC\",\"DIT\"])\n",
    "minmaxscaled"
   ]
  },
  {
   "cell_type": "markdown",
   "metadata": {},
   "source": [
    "# Part1 (Statistical Correlation Analysis)"
   ]
  },
  {
   "cell_type": "code",
   "execution_count": 6,
   "metadata": {
    "colab": {
     "base_uri": "https://localhost:8080/",
     "height": 541
    },
    "id": "MZcGd4uIFkjH",
    "outputId": "492a2b37-d6ec-481f-8751-bff8c383bb9c",
    "scrolled": false
   },
   "outputs": [
    {
     "data": {
      "text/html": [
       "<div>\n",
       "<style scoped>\n",
       "    .dataframe tbody tr th:only-of-type {\n",
       "        vertical-align: middle;\n",
       "    }\n",
       "\n",
       "    .dataframe tbody tr th {\n",
       "        vertical-align: top;\n",
       "    }\n",
       "\n",
       "    .dataframe thead th {\n",
       "        text-align: right;\n",
       "    }\n",
       "</style>\n",
       "<table border=\"1\" class=\"dataframe\">\n",
       "  <thead>\n",
       "    <tr style=\"text-align: right;\">\n",
       "      <th></th>\n",
       "      <th>NOB</th>\n",
       "      <th>V</th>\n",
       "      <th>SH</th>\n",
       "      <th>CS</th>\n",
       "      <th>CDR</th>\n",
       "      <th>TD</th>\n",
       "      <th>NOC</th>\n",
       "      <th>CBO</th>\n",
       "      <th>RFC</th>\n",
       "      <th>LOC</th>\n",
       "      <th>CLOC</th>\n",
       "      <th>FanIn</th>\n",
       "      <th>FanOut</th>\n",
       "      <th>LCOM</th>\n",
       "      <th>WMC</th>\n",
       "      <th>DIT</th>\n",
       "    </tr>\n",
       "  </thead>\n",
       "  <tbody>\n",
       "    <tr>\n",
       "      <th>NOB</th>\n",
       "      <td>1.000000</td>\n",
       "      <td>0.694733</td>\n",
       "      <td>0.587592</td>\n",
       "      <td>0.691274</td>\n",
       "      <td>0.373251</td>\n",
       "      <td>0.133383</td>\n",
       "      <td>0.407858</td>\n",
       "      <td>0.353351</td>\n",
       "      <td>0.447180</td>\n",
       "      <td>0.349883</td>\n",
       "      <td>0.369028</td>\n",
       "      <td>0.458483</td>\n",
       "      <td>0.277107</td>\n",
       "      <td>0.062748</td>\n",
       "      <td>0.507420</td>\n",
       "      <td>0.245963</td>\n",
       "    </tr>\n",
       "    <tr>\n",
       "      <th>V</th>\n",
       "      <td>0.694733</td>\n",
       "      <td>1.000000</td>\n",
       "      <td>0.629663</td>\n",
       "      <td>0.624194</td>\n",
       "      <td>0.280358</td>\n",
       "      <td>0.296757</td>\n",
       "      <td>0.409002</td>\n",
       "      <td>0.426221</td>\n",
       "      <td>0.345986</td>\n",
       "      <td>0.243636</td>\n",
       "      <td>0.208594</td>\n",
       "      <td>0.468565</td>\n",
       "      <td>0.289585</td>\n",
       "      <td>0.029765</td>\n",
       "      <td>0.397770</td>\n",
       "      <td>0.110767</td>\n",
       "    </tr>\n",
       "    <tr>\n",
       "      <th>SH</th>\n",
       "      <td>0.587592</td>\n",
       "      <td>0.629663</td>\n",
       "      <td>1.000000</td>\n",
       "      <td>0.618509</td>\n",
       "      <td>0.384657</td>\n",
       "      <td>-0.026546</td>\n",
       "      <td>0.512876</td>\n",
       "      <td>0.391886</td>\n",
       "      <td>0.425499</td>\n",
       "      <td>0.129174</td>\n",
       "      <td>0.204069</td>\n",
       "      <td>0.278723</td>\n",
       "      <td>0.156120</td>\n",
       "      <td>-0.016116</td>\n",
       "      <td>0.349367</td>\n",
       "      <td>0.107688</td>\n",
       "    </tr>\n",
       "    <tr>\n",
       "      <th>CS</th>\n",
       "      <td>0.691274</td>\n",
       "      <td>0.624194</td>\n",
       "      <td>0.618509</td>\n",
       "      <td>1.000000</td>\n",
       "      <td>0.548113</td>\n",
       "      <td>0.194611</td>\n",
       "      <td>0.402859</td>\n",
       "      <td>0.577439</td>\n",
       "      <td>0.492868</td>\n",
       "      <td>0.440458</td>\n",
       "      <td>0.260596</td>\n",
       "      <td>0.456943</td>\n",
       "      <td>0.388502</td>\n",
       "      <td>0.065511</td>\n",
       "      <td>0.569857</td>\n",
       "      <td>0.218801</td>\n",
       "    </tr>\n",
       "    <tr>\n",
       "      <th>CDR</th>\n",
       "      <td>0.373251</td>\n",
       "      <td>0.280358</td>\n",
       "      <td>0.384657</td>\n",
       "      <td>0.548113</td>\n",
       "      <td>1.000000</td>\n",
       "      <td>0.013400</td>\n",
       "      <td>0.192707</td>\n",
       "      <td>0.212007</td>\n",
       "      <td>0.240992</td>\n",
       "      <td>0.328527</td>\n",
       "      <td>0.171773</td>\n",
       "      <td>0.243709</td>\n",
       "      <td>0.237237</td>\n",
       "      <td>-0.038683</td>\n",
       "      <td>0.343628</td>\n",
       "      <td>0.123330</td>\n",
       "    </tr>\n",
       "    <tr>\n",
       "      <th>TD</th>\n",
       "      <td>0.133383</td>\n",
       "      <td>0.296757</td>\n",
       "      <td>-0.026546</td>\n",
       "      <td>0.194611</td>\n",
       "      <td>0.013400</td>\n",
       "      <td>1.000000</td>\n",
       "      <td>-0.179659</td>\n",
       "      <td>0.013652</td>\n",
       "      <td>-0.126364</td>\n",
       "      <td>-0.031098</td>\n",
       "      <td>0.114297</td>\n",
       "      <td>0.239077</td>\n",
       "      <td>0.240135</td>\n",
       "      <td>0.017159</td>\n",
       "      <td>0.127638</td>\n",
       "      <td>0.352010</td>\n",
       "    </tr>\n",
       "    <tr>\n",
       "      <th>NOC</th>\n",
       "      <td>0.407858</td>\n",
       "      <td>0.409002</td>\n",
       "      <td>0.512876</td>\n",
       "      <td>0.402859</td>\n",
       "      <td>0.192707</td>\n",
       "      <td>-0.179659</td>\n",
       "      <td>1.000000</td>\n",
       "      <td>0.667344</td>\n",
       "      <td>0.584086</td>\n",
       "      <td>-0.120165</td>\n",
       "      <td>0.297347</td>\n",
       "      <td>0.268289</td>\n",
       "      <td>-0.074350</td>\n",
       "      <td>-0.013518</td>\n",
       "      <td>0.173468</td>\n",
       "      <td>-0.163788</td>\n",
       "    </tr>\n",
       "    <tr>\n",
       "      <th>CBO</th>\n",
       "      <td>0.353351</td>\n",
       "      <td>0.426221</td>\n",
       "      <td>0.391886</td>\n",
       "      <td>0.577439</td>\n",
       "      <td>0.212007</td>\n",
       "      <td>0.013652</td>\n",
       "      <td>0.667344</td>\n",
       "      <td>1.000000</td>\n",
       "      <td>0.421247</td>\n",
       "      <td>0.177024</td>\n",
       "      <td>0.250408</td>\n",
       "      <td>0.594578</td>\n",
       "      <td>0.240953</td>\n",
       "      <td>0.109694</td>\n",
       "      <td>0.492616</td>\n",
       "      <td>0.000144</td>\n",
       "    </tr>\n",
       "    <tr>\n",
       "      <th>RFC</th>\n",
       "      <td>0.447180</td>\n",
       "      <td>0.345986</td>\n",
       "      <td>0.425499</td>\n",
       "      <td>0.492868</td>\n",
       "      <td>0.240992</td>\n",
       "      <td>-0.126364</td>\n",
       "      <td>0.584086</td>\n",
       "      <td>0.421247</td>\n",
       "      <td>1.000000</td>\n",
       "      <td>0.134608</td>\n",
       "      <td>0.381636</td>\n",
       "      <td>0.414878</td>\n",
       "      <td>0.072564</td>\n",
       "      <td>0.444076</td>\n",
       "      <td>0.529367</td>\n",
       "      <td>0.237368</td>\n",
       "    </tr>\n",
       "    <tr>\n",
       "      <th>LOC</th>\n",
       "      <td>0.349883</td>\n",
       "      <td>0.243636</td>\n",
       "      <td>0.129174</td>\n",
       "      <td>0.440458</td>\n",
       "      <td>0.328527</td>\n",
       "      <td>-0.031098</td>\n",
       "      <td>-0.120165</td>\n",
       "      <td>0.177024</td>\n",
       "      <td>0.134608</td>\n",
       "      <td>1.000000</td>\n",
       "      <td>0.126681</td>\n",
       "      <td>0.554326</td>\n",
       "      <td>0.618676</td>\n",
       "      <td>-0.065455</td>\n",
       "      <td>0.678224</td>\n",
       "      <td>0.181072</td>\n",
       "    </tr>\n",
       "    <tr>\n",
       "      <th>CLOC</th>\n",
       "      <td>0.369028</td>\n",
       "      <td>0.208594</td>\n",
       "      <td>0.204069</td>\n",
       "      <td>0.260596</td>\n",
       "      <td>0.171773</td>\n",
       "      <td>0.114297</td>\n",
       "      <td>0.297347</td>\n",
       "      <td>0.250408</td>\n",
       "      <td>0.381636</td>\n",
       "      <td>0.126681</td>\n",
       "      <td>1.000000</td>\n",
       "      <td>0.416789</td>\n",
       "      <td>0.109636</td>\n",
       "      <td>0.107619</td>\n",
       "      <td>0.355080</td>\n",
       "      <td>-0.017867</td>\n",
       "    </tr>\n",
       "    <tr>\n",
       "      <th>FanIn</th>\n",
       "      <td>0.458483</td>\n",
       "      <td>0.468565</td>\n",
       "      <td>0.278723</td>\n",
       "      <td>0.456943</td>\n",
       "      <td>0.243709</td>\n",
       "      <td>0.239077</td>\n",
       "      <td>0.268289</td>\n",
       "      <td>0.594578</td>\n",
       "      <td>0.414878</td>\n",
       "      <td>0.554326</td>\n",
       "      <td>0.416789</td>\n",
       "      <td>1.000000</td>\n",
       "      <td>0.679297</td>\n",
       "      <td>0.296355</td>\n",
       "      <td>0.802910</td>\n",
       "      <td>0.179395</td>\n",
       "    </tr>\n",
       "    <tr>\n",
       "      <th>FanOut</th>\n",
       "      <td>0.277107</td>\n",
       "      <td>0.289585</td>\n",
       "      <td>0.156120</td>\n",
       "      <td>0.388502</td>\n",
       "      <td>0.237237</td>\n",
       "      <td>0.240135</td>\n",
       "      <td>-0.074350</td>\n",
       "      <td>0.240953</td>\n",
       "      <td>0.072564</td>\n",
       "      <td>0.618676</td>\n",
       "      <td>0.109636</td>\n",
       "      <td>0.679297</td>\n",
       "      <td>1.000000</td>\n",
       "      <td>0.076982</td>\n",
       "      <td>0.626327</td>\n",
       "      <td>0.295389</td>\n",
       "    </tr>\n",
       "    <tr>\n",
       "      <th>LCOM</th>\n",
       "      <td>0.062748</td>\n",
       "      <td>0.029765</td>\n",
       "      <td>-0.016116</td>\n",
       "      <td>0.065511</td>\n",
       "      <td>-0.038683</td>\n",
       "      <td>0.017159</td>\n",
       "      <td>-0.013518</td>\n",
       "      <td>0.109694</td>\n",
       "      <td>0.444076</td>\n",
       "      <td>-0.065455</td>\n",
       "      <td>0.107619</td>\n",
       "      <td>0.296355</td>\n",
       "      <td>0.076982</td>\n",
       "      <td>1.000000</td>\n",
       "      <td>0.291312</td>\n",
       "      <td>0.229251</td>\n",
       "    </tr>\n",
       "    <tr>\n",
       "      <th>WMC</th>\n",
       "      <td>0.507420</td>\n",
       "      <td>0.397770</td>\n",
       "      <td>0.349367</td>\n",
       "      <td>0.569857</td>\n",
       "      <td>0.343628</td>\n",
       "      <td>0.127638</td>\n",
       "      <td>0.173468</td>\n",
       "      <td>0.492616</td>\n",
       "      <td>0.529367</td>\n",
       "      <td>0.678224</td>\n",
       "      <td>0.355080</td>\n",
       "      <td>0.802910</td>\n",
       "      <td>0.626327</td>\n",
       "      <td>0.291312</td>\n",
       "      <td>1.000000</td>\n",
       "      <td>0.381028</td>\n",
       "    </tr>\n",
       "    <tr>\n",
       "      <th>DIT</th>\n",
       "      <td>0.245963</td>\n",
       "      <td>0.110767</td>\n",
       "      <td>0.107688</td>\n",
       "      <td>0.218801</td>\n",
       "      <td>0.123330</td>\n",
       "      <td>0.352010</td>\n",
       "      <td>-0.163788</td>\n",
       "      <td>0.000144</td>\n",
       "      <td>0.237368</td>\n",
       "      <td>0.181072</td>\n",
       "      <td>-0.017867</td>\n",
       "      <td>0.179395</td>\n",
       "      <td>0.295389</td>\n",
       "      <td>0.229251</td>\n",
       "      <td>0.381028</td>\n",
       "      <td>1.000000</td>\n",
       "    </tr>\n",
       "  </tbody>\n",
       "</table>\n",
       "</div>"
      ],
      "text/plain": [
       "             NOB         V        SH        CS       CDR        TD       NOC  \\\n",
       "NOB     1.000000  0.694733  0.587592  0.691274  0.373251  0.133383  0.407858   \n",
       "V       0.694733  1.000000  0.629663  0.624194  0.280358  0.296757  0.409002   \n",
       "SH      0.587592  0.629663  1.000000  0.618509  0.384657 -0.026546  0.512876   \n",
       "CS      0.691274  0.624194  0.618509  1.000000  0.548113  0.194611  0.402859   \n",
       "CDR     0.373251  0.280358  0.384657  0.548113  1.000000  0.013400  0.192707   \n",
       "TD      0.133383  0.296757 -0.026546  0.194611  0.013400  1.000000 -0.179659   \n",
       "NOC     0.407858  0.409002  0.512876  0.402859  0.192707 -0.179659  1.000000   \n",
       "CBO     0.353351  0.426221  0.391886  0.577439  0.212007  0.013652  0.667344   \n",
       "RFC     0.447180  0.345986  0.425499  0.492868  0.240992 -0.126364  0.584086   \n",
       "LOC     0.349883  0.243636  0.129174  0.440458  0.328527 -0.031098 -0.120165   \n",
       "CLOC    0.369028  0.208594  0.204069  0.260596  0.171773  0.114297  0.297347   \n",
       "FanIn   0.458483  0.468565  0.278723  0.456943  0.243709  0.239077  0.268289   \n",
       "FanOut  0.277107  0.289585  0.156120  0.388502  0.237237  0.240135 -0.074350   \n",
       "LCOM    0.062748  0.029765 -0.016116  0.065511 -0.038683  0.017159 -0.013518   \n",
       "WMC     0.507420  0.397770  0.349367  0.569857  0.343628  0.127638  0.173468   \n",
       "DIT     0.245963  0.110767  0.107688  0.218801  0.123330  0.352010 -0.163788   \n",
       "\n",
       "             CBO       RFC       LOC      CLOC     FanIn    FanOut      LCOM  \\\n",
       "NOB     0.353351  0.447180  0.349883  0.369028  0.458483  0.277107  0.062748   \n",
       "V       0.426221  0.345986  0.243636  0.208594  0.468565  0.289585  0.029765   \n",
       "SH      0.391886  0.425499  0.129174  0.204069  0.278723  0.156120 -0.016116   \n",
       "CS      0.577439  0.492868  0.440458  0.260596  0.456943  0.388502  0.065511   \n",
       "CDR     0.212007  0.240992  0.328527  0.171773  0.243709  0.237237 -0.038683   \n",
       "TD      0.013652 -0.126364 -0.031098  0.114297  0.239077  0.240135  0.017159   \n",
       "NOC     0.667344  0.584086 -0.120165  0.297347  0.268289 -0.074350 -0.013518   \n",
       "CBO     1.000000  0.421247  0.177024  0.250408  0.594578  0.240953  0.109694   \n",
       "RFC     0.421247  1.000000  0.134608  0.381636  0.414878  0.072564  0.444076   \n",
       "LOC     0.177024  0.134608  1.000000  0.126681  0.554326  0.618676 -0.065455   \n",
       "CLOC    0.250408  0.381636  0.126681  1.000000  0.416789  0.109636  0.107619   \n",
       "FanIn   0.594578  0.414878  0.554326  0.416789  1.000000  0.679297  0.296355   \n",
       "FanOut  0.240953  0.072564  0.618676  0.109636  0.679297  1.000000  0.076982   \n",
       "LCOM    0.109694  0.444076 -0.065455  0.107619  0.296355  0.076982  1.000000   \n",
       "WMC     0.492616  0.529367  0.678224  0.355080  0.802910  0.626327  0.291312   \n",
       "DIT     0.000144  0.237368  0.181072 -0.017867  0.179395  0.295389  0.229251   \n",
       "\n",
       "             WMC       DIT  \n",
       "NOB     0.507420  0.245963  \n",
       "V       0.397770  0.110767  \n",
       "SH      0.349367  0.107688  \n",
       "CS      0.569857  0.218801  \n",
       "CDR     0.343628  0.123330  \n",
       "TD      0.127638  0.352010  \n",
       "NOC     0.173468 -0.163788  \n",
       "CBO     0.492616  0.000144  \n",
       "RFC     0.529367  0.237368  \n",
       "LOC     0.678224  0.181072  \n",
       "CLOC    0.355080 -0.017867  \n",
       "FanIn   0.802910  0.179395  \n",
       "FanOut  0.626327  0.295389  \n",
       "LCOM    0.291312  0.229251  \n",
       "WMC     1.000000  0.381028  \n",
       "DIT     0.381028  1.000000  "
      ]
     },
     "execution_count": 6,
     "metadata": {},
     "output_type": "execute_result"
    }
   ],
   "source": [
    "#Show the correlation matrix of all metrics\n",
    "pd.DataFrame(data).corr(method = \"spearman\")"
   ]
  },
  {
   "cell_type": "code",
   "execution_count": 7,
   "metadata": {
    "colab": {
     "base_uri": "https://localhost:8080/",
     "height": 538
    },
    "id": "ySKahFCydhRx",
    "outputId": "193f17c8-5d7d-4f8d-e5dc-227b35c534bc",
    "scrolled": false
   },
   "outputs": [
    {
     "data": {
      "text/html": [
       "<div>\n",
       "<style scoped>\n",
       "    .dataframe tbody tr th:only-of-type {\n",
       "        vertical-align: middle;\n",
       "    }\n",
       "\n",
       "    .dataframe tbody tr th {\n",
       "        vertical-align: top;\n",
       "    }\n",
       "\n",
       "    .dataframe thead th {\n",
       "        text-align: right;\n",
       "    }\n",
       "</style>\n",
       "<table border=\"1\" class=\"dataframe\">\n",
       "  <thead>\n",
       "    <tr style=\"text-align: right;\">\n",
       "      <th></th>\n",
       "      <th>NOB</th>\n",
       "      <th>V</th>\n",
       "      <th>SH</th>\n",
       "      <th>CS</th>\n",
       "      <th>CDR</th>\n",
       "      <th>TD</th>\n",
       "      <th>NOC</th>\n",
       "      <th>CBO</th>\n",
       "      <th>RFC</th>\n",
       "      <th>LOC</th>\n",
       "      <th>CLOC</th>\n",
       "      <th>FanIn</th>\n",
       "      <th>FanOut</th>\n",
       "      <th>LCOM</th>\n",
       "      <th>WMC</th>\n",
       "      <th>DIT</th>\n",
       "    </tr>\n",
       "  </thead>\n",
       "  <tbody>\n",
       "    <tr>\n",
       "      <th>NOB</th>\n",
       "      <td>0.0000</td>\n",
       "      <td>0.0000</td>\n",
       "      <td>0.0000</td>\n",
       "      <td>0.0000</td>\n",
       "      <td>0.0076</td>\n",
       "      <td>0.3558</td>\n",
       "      <td>0.0033</td>\n",
       "      <td>0.0118</td>\n",
       "      <td>0.0011</td>\n",
       "      <td>0.0127</td>\n",
       "      <td>0.0084</td>\n",
       "      <td>0.0008</td>\n",
       "      <td>0.0514</td>\n",
       "      <td>0.6651</td>\n",
       "      <td>0.0002</td>\n",
       "      <td>0.0851</td>\n",
       "    </tr>\n",
       "    <tr>\n",
       "      <th>V</th>\n",
       "      <td>0.0000</td>\n",
       "      <td>0.0000</td>\n",
       "      <td>0.0000</td>\n",
       "      <td>0.0000</td>\n",
       "      <td>0.0486</td>\n",
       "      <td>0.0364</td>\n",
       "      <td>0.0032</td>\n",
       "      <td>0.0020</td>\n",
       "      <td>0.0138</td>\n",
       "      <td>0.0882</td>\n",
       "      <td>0.1460</td>\n",
       "      <td>0.0006</td>\n",
       "      <td>0.0414</td>\n",
       "      <td>0.8374</td>\n",
       "      <td>0.0042</td>\n",
       "      <td>0.4438</td>\n",
       "    </tr>\n",
       "    <tr>\n",
       "      <th>SH</th>\n",
       "      <td>0.0000</td>\n",
       "      <td>0.0000</td>\n",
       "      <td>0.0000</td>\n",
       "      <td>0.0000</td>\n",
       "      <td>0.0058</td>\n",
       "      <td>0.8548</td>\n",
       "      <td>0.0001</td>\n",
       "      <td>0.0049</td>\n",
       "      <td>0.0021</td>\n",
       "      <td>0.3713</td>\n",
       "      <td>0.1552</td>\n",
       "      <td>0.0500</td>\n",
       "      <td>0.2790</td>\n",
       "      <td>0.9115</td>\n",
       "      <td>0.0129</td>\n",
       "      <td>0.4566</td>\n",
       "    </tr>\n",
       "    <tr>\n",
       "      <th>CS</th>\n",
       "      <td>0.0000</td>\n",
       "      <td>0.0000</td>\n",
       "      <td>0.0000</td>\n",
       "      <td>0.0000</td>\n",
       "      <td>0.0000</td>\n",
       "      <td>0.1756</td>\n",
       "      <td>0.0037</td>\n",
       "      <td>0.0000</td>\n",
       "      <td>0.0003</td>\n",
       "      <td>0.0014</td>\n",
       "      <td>0.0676</td>\n",
       "      <td>0.0009</td>\n",
       "      <td>0.0053</td>\n",
       "      <td>0.6513</td>\n",
       "      <td>0.0000</td>\n",
       "      <td>0.1269</td>\n",
       "    </tr>\n",
       "    <tr>\n",
       "      <th>CDR</th>\n",
       "      <td>0.0076</td>\n",
       "      <td>0.0486</td>\n",
       "      <td>0.0058</td>\n",
       "      <td>0.0000</td>\n",
       "      <td>0.0000</td>\n",
       "      <td>0.9264</td>\n",
       "      <td>0.1800</td>\n",
       "      <td>0.1394</td>\n",
       "      <td>0.0918</td>\n",
       "      <td>0.0198</td>\n",
       "      <td>0.2330</td>\n",
       "      <td>0.0881</td>\n",
       "      <td>0.0971</td>\n",
       "      <td>0.7897</td>\n",
       "      <td>0.0146</td>\n",
       "      <td>0.3935</td>\n",
       "    </tr>\n",
       "    <tr>\n",
       "      <th>TD</th>\n",
       "      <td>0.3558</td>\n",
       "      <td>0.0364</td>\n",
       "      <td>0.8548</td>\n",
       "      <td>0.1756</td>\n",
       "      <td>0.9264</td>\n",
       "      <td>0.0000</td>\n",
       "      <td>0.2119</td>\n",
       "      <td>0.9250</td>\n",
       "      <td>0.3819</td>\n",
       "      <td>0.8302</td>\n",
       "      <td>0.4293</td>\n",
       "      <td>0.0945</td>\n",
       "      <td>0.0930</td>\n",
       "      <td>0.9059</td>\n",
       "      <td>0.3771</td>\n",
       "      <td>0.0122</td>\n",
       "    </tr>\n",
       "    <tr>\n",
       "      <th>NOC</th>\n",
       "      <td>0.0033</td>\n",
       "      <td>0.0032</td>\n",
       "      <td>0.0001</td>\n",
       "      <td>0.0037</td>\n",
       "      <td>0.1800</td>\n",
       "      <td>0.2119</td>\n",
       "      <td>0.0000</td>\n",
       "      <td>0.0000</td>\n",
       "      <td>0.0000</td>\n",
       "      <td>0.4058</td>\n",
       "      <td>0.0360</td>\n",
       "      <td>0.0596</td>\n",
       "      <td>0.6078</td>\n",
       "      <td>0.9258</td>\n",
       "      <td>0.2283</td>\n",
       "      <td>0.2557</td>\n",
       "    </tr>\n",
       "    <tr>\n",
       "      <th>CBO</th>\n",
       "      <td>0.0118</td>\n",
       "      <td>0.0020</td>\n",
       "      <td>0.0049</td>\n",
       "      <td>0.0000</td>\n",
       "      <td>0.1394</td>\n",
       "      <td>0.9250</td>\n",
       "      <td>0.0000</td>\n",
       "      <td>0.0000</td>\n",
       "      <td>0.0023</td>\n",
       "      <td>0.2188</td>\n",
       "      <td>0.0794</td>\n",
       "      <td>0.0000</td>\n",
       "      <td>0.0919</td>\n",
       "      <td>0.4483</td>\n",
       "      <td>0.0003</td>\n",
       "      <td>0.9992</td>\n",
       "    </tr>\n",
       "    <tr>\n",
       "      <th>RFC</th>\n",
       "      <td>0.0011</td>\n",
       "      <td>0.0138</td>\n",
       "      <td>0.0021</td>\n",
       "      <td>0.0003</td>\n",
       "      <td>0.0918</td>\n",
       "      <td>0.3819</td>\n",
       "      <td>0.0000</td>\n",
       "      <td>0.0023</td>\n",
       "      <td>0.0000</td>\n",
       "      <td>0.3513</td>\n",
       "      <td>0.0062</td>\n",
       "      <td>0.0027</td>\n",
       "      <td>0.6165</td>\n",
       "      <td>0.0012</td>\n",
       "      <td>0.0001</td>\n",
       "      <td>0.0970</td>\n",
       "    </tr>\n",
       "    <tr>\n",
       "      <th>LOC</th>\n",
       "      <td>0.0127</td>\n",
       "      <td>0.0882</td>\n",
       "      <td>0.3713</td>\n",
       "      <td>0.0014</td>\n",
       "      <td>0.0198</td>\n",
       "      <td>0.8302</td>\n",
       "      <td>0.4058</td>\n",
       "      <td>0.2188</td>\n",
       "      <td>0.3513</td>\n",
       "      <td>0.0000</td>\n",
       "      <td>0.3807</td>\n",
       "      <td>0.0000</td>\n",
       "      <td>0.0000</td>\n",
       "      <td>0.6515</td>\n",
       "      <td>0.0000</td>\n",
       "      <td>0.2082</td>\n",
       "    </tr>\n",
       "    <tr>\n",
       "      <th>CLOC</th>\n",
       "      <td>0.0084</td>\n",
       "      <td>0.1460</td>\n",
       "      <td>0.1552</td>\n",
       "      <td>0.0676</td>\n",
       "      <td>0.2330</td>\n",
       "      <td>0.4293</td>\n",
       "      <td>0.0360</td>\n",
       "      <td>0.0794</td>\n",
       "      <td>0.0062</td>\n",
       "      <td>0.3807</td>\n",
       "      <td>0.0000</td>\n",
       "      <td>0.0026</td>\n",
       "      <td>0.4485</td>\n",
       "      <td>0.4569</td>\n",
       "      <td>0.0114</td>\n",
       "      <td>0.9020</td>\n",
       "    </tr>\n",
       "    <tr>\n",
       "      <th>FanIn</th>\n",
       "      <td>0.0008</td>\n",
       "      <td>0.0006</td>\n",
       "      <td>0.0500</td>\n",
       "      <td>0.0009</td>\n",
       "      <td>0.0881</td>\n",
       "      <td>0.0945</td>\n",
       "      <td>0.0596</td>\n",
       "      <td>0.0000</td>\n",
       "      <td>0.0027</td>\n",
       "      <td>0.0000</td>\n",
       "      <td>0.0026</td>\n",
       "      <td>0.0000</td>\n",
       "      <td>0.0000</td>\n",
       "      <td>0.0366</td>\n",
       "      <td>0.0000</td>\n",
       "      <td>0.2126</td>\n",
       "    </tr>\n",
       "    <tr>\n",
       "      <th>FanOut</th>\n",
       "      <td>0.0514</td>\n",
       "      <td>0.0414</td>\n",
       "      <td>0.2790</td>\n",
       "      <td>0.0053</td>\n",
       "      <td>0.0971</td>\n",
       "      <td>0.0930</td>\n",
       "      <td>0.6078</td>\n",
       "      <td>0.0919</td>\n",
       "      <td>0.6165</td>\n",
       "      <td>0.0000</td>\n",
       "      <td>0.4485</td>\n",
       "      <td>0.0000</td>\n",
       "      <td>0.0000</td>\n",
       "      <td>0.5952</td>\n",
       "      <td>0.0000</td>\n",
       "      <td>0.0373</td>\n",
       "    </tr>\n",
       "    <tr>\n",
       "      <th>LCOM</th>\n",
       "      <td>0.6651</td>\n",
       "      <td>0.8374</td>\n",
       "      <td>0.9115</td>\n",
       "      <td>0.6513</td>\n",
       "      <td>0.7897</td>\n",
       "      <td>0.9059</td>\n",
       "      <td>0.9258</td>\n",
       "      <td>0.4483</td>\n",
       "      <td>0.0012</td>\n",
       "      <td>0.6515</td>\n",
       "      <td>0.4569</td>\n",
       "      <td>0.0366</td>\n",
       "      <td>0.5952</td>\n",
       "      <td>0.0000</td>\n",
       "      <td>0.0401</td>\n",
       "      <td>0.1093</td>\n",
       "    </tr>\n",
       "    <tr>\n",
       "      <th>WMC</th>\n",
       "      <td>0.0002</td>\n",
       "      <td>0.0042</td>\n",
       "      <td>0.0129</td>\n",
       "      <td>0.0000</td>\n",
       "      <td>0.0146</td>\n",
       "      <td>0.3771</td>\n",
       "      <td>0.2283</td>\n",
       "      <td>0.0003</td>\n",
       "      <td>0.0001</td>\n",
       "      <td>0.0000</td>\n",
       "      <td>0.0114</td>\n",
       "      <td>0.0000</td>\n",
       "      <td>0.0000</td>\n",
       "      <td>0.0401</td>\n",
       "      <td>0.0000</td>\n",
       "      <td>0.0063</td>\n",
       "    </tr>\n",
       "    <tr>\n",
       "      <th>DIT</th>\n",
       "      <td>0.0851</td>\n",
       "      <td>0.4438</td>\n",
       "      <td>0.4566</td>\n",
       "      <td>0.1269</td>\n",
       "      <td>0.3935</td>\n",
       "      <td>0.0122</td>\n",
       "      <td>0.2557</td>\n",
       "      <td>0.9992</td>\n",
       "      <td>0.0970</td>\n",
       "      <td>0.2082</td>\n",
       "      <td>0.9020</td>\n",
       "      <td>0.2126</td>\n",
       "      <td>0.0373</td>\n",
       "      <td>0.1093</td>\n",
       "      <td>0.0063</td>\n",
       "      <td>0.0000</td>\n",
       "    </tr>\n",
       "  </tbody>\n",
       "</table>\n",
       "</div>"
      ],
      "text/plain": [
       "           NOB       V      SH      CS     CDR      TD     NOC     CBO  \\\n",
       "NOB     0.0000  0.0000  0.0000  0.0000  0.0076  0.3558  0.0033  0.0118   \n",
       "V       0.0000  0.0000  0.0000  0.0000  0.0486  0.0364  0.0032  0.0020   \n",
       "SH      0.0000  0.0000  0.0000  0.0000  0.0058  0.8548  0.0001  0.0049   \n",
       "CS      0.0000  0.0000  0.0000  0.0000  0.0000  0.1756  0.0037  0.0000   \n",
       "CDR     0.0076  0.0486  0.0058  0.0000  0.0000  0.9264  0.1800  0.1394   \n",
       "TD      0.3558  0.0364  0.8548  0.1756  0.9264  0.0000  0.2119  0.9250   \n",
       "NOC     0.0033  0.0032  0.0001  0.0037  0.1800  0.2119  0.0000  0.0000   \n",
       "CBO     0.0118  0.0020  0.0049  0.0000  0.1394  0.9250  0.0000  0.0000   \n",
       "RFC     0.0011  0.0138  0.0021  0.0003  0.0918  0.3819  0.0000  0.0023   \n",
       "LOC     0.0127  0.0882  0.3713  0.0014  0.0198  0.8302  0.4058  0.2188   \n",
       "CLOC    0.0084  0.1460  0.1552  0.0676  0.2330  0.4293  0.0360  0.0794   \n",
       "FanIn   0.0008  0.0006  0.0500  0.0009  0.0881  0.0945  0.0596  0.0000   \n",
       "FanOut  0.0514  0.0414  0.2790  0.0053  0.0971  0.0930  0.6078  0.0919   \n",
       "LCOM    0.6651  0.8374  0.9115  0.6513  0.7897  0.9059  0.9258  0.4483   \n",
       "WMC     0.0002  0.0042  0.0129  0.0000  0.0146  0.3771  0.2283  0.0003   \n",
       "DIT     0.0851  0.4438  0.4566  0.1269  0.3935  0.0122  0.2557  0.9992   \n",
       "\n",
       "           RFC     LOC    CLOC   FanIn  FanOut    LCOM     WMC     DIT  \n",
       "NOB     0.0011  0.0127  0.0084  0.0008  0.0514  0.6651  0.0002  0.0851  \n",
       "V       0.0138  0.0882  0.1460  0.0006  0.0414  0.8374  0.0042  0.4438  \n",
       "SH      0.0021  0.3713  0.1552  0.0500  0.2790  0.9115  0.0129  0.4566  \n",
       "CS      0.0003  0.0014  0.0676  0.0009  0.0053  0.6513  0.0000  0.1269  \n",
       "CDR     0.0918  0.0198  0.2330  0.0881  0.0971  0.7897  0.0146  0.3935  \n",
       "TD      0.3819  0.8302  0.4293  0.0945  0.0930  0.9059  0.3771  0.0122  \n",
       "NOC     0.0000  0.4058  0.0360  0.0596  0.6078  0.9258  0.2283  0.2557  \n",
       "CBO     0.0023  0.2188  0.0794  0.0000  0.0919  0.4483  0.0003  0.9992  \n",
       "RFC     0.0000  0.3513  0.0062  0.0027  0.6165  0.0012  0.0001  0.0970  \n",
       "LOC     0.3513  0.0000  0.3807  0.0000  0.0000  0.6515  0.0000  0.2082  \n",
       "CLOC    0.0062  0.3807  0.0000  0.0026  0.4485  0.4569  0.0114  0.9020  \n",
       "FanIn   0.0027  0.0000  0.0026  0.0000  0.0000  0.0366  0.0000  0.2126  \n",
       "FanOut  0.6165  0.0000  0.4485  0.0000  0.0000  0.5952  0.0000  0.0373  \n",
       "LCOM    0.0012  0.6515  0.4569  0.0366  0.5952  0.0000  0.0401  0.1093  \n",
       "WMC     0.0001  0.0000  0.0114  0.0000  0.0000  0.0401  0.0000  0.0063  \n",
       "DIT     0.0970  0.2082  0.9020  0.2126  0.0373  0.1093  0.0063  0.0000  "
      ]
     },
     "execution_count": 7,
     "metadata": {},
     "output_type": "execute_result"
    }
   ],
   "source": [
    "#P values of Spearman Correlation Table\n",
    "dataf = scipy.stats.spearmanr(pd.DataFrame(MinMaxScaler().fit_transform(data.loc[:,\"NOB\":])))[1]\n",
    "dataf = np.around(dataf,4)\n",
    "dataf = pd.DataFrame(dataf,columns = [\"NOB\",\"V\",\"SH\",\"CS\",\"CDR\",\"TD\",\"NOC\",\"CBO\",\"RFC\",\"LOC\",\"CLOC\",\"FanIn\",\"FanOut\",\"LCOM\",\"WMC\",\"DIT\"], index = [\"NOB\",\"V\",\"SH\",\"CS\",\"CDR\",\"TD\",\"NOC\",\"CBO\",\"RFC\",\"LOC\",\"CLOC\",\"FanIn\",\"FanOut\",\"LCOM\",\"WMC\",\"DIT\"])\n",
    "dataf"
   ]
  },
  {
   "cell_type": "code",
   "execution_count": 8,
   "metadata": {
    "colab": {
     "base_uri": "https://localhost:8080/",
     "height": 596
    },
    "id": "LnY9-Yk9jr7a",
    "outputId": "65732329-6555-49ee-a7a6-68241af7e178",
    "scrolled": false
   },
   "outputs": [
    {
     "data": {
      "image/png": "[encoded data removed]",
      "text/plain": [
       "<Figure size 1152x864 with 2 Axes>"
      ]
     },
     "metadata": {
      "needs_background": "light"
     },
     "output_type": "display_data"
    }
   ],
   "source": [
    "#If you want to see heatmap of the correlation matrix, you can launch code below:\n",
    "plt.figure(figsize = (16,12))\n",
    "plt.show(sns.heatmap(pd.DataFrame(data).corr(method = \"spearman\"),annot = True))"
   ]
  },
  {
   "cell_type": "code",
   "execution_count": 9,
   "metadata": {
    "colab": {
     "base_uri": "https://localhost:8080/",
     "height": 227
    },
    "id": "BasbYRGXj0fO",
    "outputId": "bc9d0f03-9e6a-4082-edc7-ba69523b6ec9",
    "scrolled": false
   },
   "outputs": [
    {
     "data": {
      "text/html": [
       "<div>\n",
       "<style scoped>\n",
       "    .dataframe tbody tr th:only-of-type {\n",
       "        vertical-align: middle;\n",
       "    }\n",
       "\n",
       "    .dataframe tbody tr th {\n",
       "        vertical-align: top;\n",
       "    }\n",
       "\n",
       "    .dataframe thead th {\n",
       "        text-align: right;\n",
       "    }\n",
       "</style>\n",
       "<table border=\"1\" class=\"dataframe\">\n",
       "  <thead>\n",
       "    <tr style=\"text-align: right;\">\n",
       "      <th></th>\n",
       "      <th>NOB</th>\n",
       "      <th>V</th>\n",
       "      <th>SH</th>\n",
       "      <th>CS</th>\n",
       "      <th>CDR</th>\n",
       "      <th>TD</th>\n",
       "    </tr>\n",
       "  </thead>\n",
       "  <tbody>\n",
       "    <tr>\n",
       "      <th>NOB</th>\n",
       "      <td>1.000000</td>\n",
       "      <td>0.694733</td>\n",
       "      <td>0.587592</td>\n",
       "      <td>0.691274</td>\n",
       "      <td>0.373251</td>\n",
       "      <td>0.133383</td>\n",
       "    </tr>\n",
       "    <tr>\n",
       "      <th>V</th>\n",
       "      <td>0.694733</td>\n",
       "      <td>1.000000</td>\n",
       "      <td>0.629663</td>\n",
       "      <td>0.624194</td>\n",
       "      <td>0.280358</td>\n",
       "      <td>0.296757</td>\n",
       "    </tr>\n",
       "    <tr>\n",
       "      <th>SH</th>\n",
       "      <td>0.587592</td>\n",
       "      <td>0.629663</td>\n",
       "      <td>1.000000</td>\n",
       "      <td>0.618509</td>\n",
       "      <td>0.384657</td>\n",
       "      <td>-0.026546</td>\n",
       "    </tr>\n",
       "    <tr>\n",
       "      <th>CS</th>\n",
       "      <td>0.691274</td>\n",
       "      <td>0.624194</td>\n",
       "      <td>0.618509</td>\n",
       "      <td>1.000000</td>\n",
       "      <td>0.548113</td>\n",
       "      <td>0.194611</td>\n",
       "    </tr>\n",
       "    <tr>\n",
       "      <th>CDR</th>\n",
       "      <td>0.373251</td>\n",
       "      <td>0.280358</td>\n",
       "      <td>0.384657</td>\n",
       "      <td>0.548113</td>\n",
       "      <td>1.000000</td>\n",
       "      <td>0.013400</td>\n",
       "    </tr>\n",
       "    <tr>\n",
       "      <th>TD</th>\n",
       "      <td>0.133383</td>\n",
       "      <td>0.296757</td>\n",
       "      <td>-0.026546</td>\n",
       "      <td>0.194611</td>\n",
       "      <td>0.013400</td>\n",
       "      <td>1.000000</td>\n",
       "    </tr>\n",
       "  </tbody>\n",
       "</table>\n",
       "</div>"
      ],
      "text/plain": [
       "          NOB         V        SH        CS       CDR        TD\n",
       "NOB  1.000000  0.694733  0.587592  0.691274  0.373251  0.133383\n",
       "V    0.694733  1.000000  0.629663  0.624194  0.280358  0.296757\n",
       "SH   0.587592  0.629663  1.000000  0.618509  0.384657 -0.026546\n",
       "CS   0.691274  0.624194  0.618509  1.000000  0.548113  0.194611\n",
       "CDR  0.373251  0.280358  0.384657  0.548113  1.000000  0.013400\n",
       "TD   0.133383  0.296757 -0.026546  0.194611  0.013400  1.000000"
      ]
     },
     "execution_count": 9,
     "metadata": {},
     "output_type": "execute_result"
    }
   ],
   "source": [
    "#Correlation between External Metrics & TD\n",
    "pd.DataFrame(data.loc[:,\"NOB\":\"TD\"]).corr(method = \"spearman\")"
   ]
  },
  {
   "cell_type": "code",
   "execution_count": 10,
   "metadata": {
    "colab": {
     "base_uri": "https://localhost:8080/",
     "height": 713
    },
    "id": "e2QuIBs8o1x8",
    "outputId": "90fad3ea-8579-4aa4-c556-52538d0ff6eb"
   },
   "outputs": [
    {
     "data": {
      "text/html": [
       "<div>\n",
       "<style scoped>\n",
       "    .dataframe tbody tr th:only-of-type {\n",
       "        vertical-align: middle;\n",
       "    }\n",
       "\n",
       "    .dataframe tbody tr th {\n",
       "        vertical-align: top;\n",
       "    }\n",
       "\n",
       "    .dataframe thead th {\n",
       "        text-align: right;\n",
       "    }\n",
       "</style>\n",
       "<table border=\"1\" class=\"dataframe\">\n",
       "  <thead>\n",
       "    <tr style=\"text-align: right;\">\n",
       "      <th></th>\n",
       "      <th>NOC</th>\n",
       "      <th>CBO</th>\n",
       "      <th>RFC</th>\n",
       "      <th>LOC</th>\n",
       "      <th>CLOC</th>\n",
       "      <th>FanIn</th>\n",
       "      <th>FanOut</th>\n",
       "      <th>LCOM</th>\n",
       "      <th>WMC</th>\n",
       "      <th>DIT</th>\n",
       "      <th>CDR</th>\n",
       "      <th>TD</th>\n",
       "    </tr>\n",
       "  </thead>\n",
       "  <tbody>\n",
       "    <tr>\n",
       "      <th>NOC</th>\n",
       "      <td>1.000000</td>\n",
       "      <td>0.667344</td>\n",
       "      <td>0.584086</td>\n",
       "      <td>-0.120165</td>\n",
       "      <td>0.297347</td>\n",
       "      <td>0.268289</td>\n",
       "      <td>-0.074350</td>\n",
       "      <td>-0.013518</td>\n",
       "      <td>0.173468</td>\n",
       "      <td>-0.163788</td>\n",
       "      <td>0.192707</td>\n",
       "      <td>-0.179659</td>\n",
       "    </tr>\n",
       "    <tr>\n",
       "      <th>CBO</th>\n",
       "      <td>0.667344</td>\n",
       "      <td>1.000000</td>\n",
       "      <td>0.421247</td>\n",
       "      <td>0.177024</td>\n",
       "      <td>0.250408</td>\n",
       "      <td>0.594578</td>\n",
       "      <td>0.240953</td>\n",
       "      <td>0.109694</td>\n",
       "      <td>0.492616</td>\n",
       "      <td>0.000144</td>\n",
       "      <td>0.212007</td>\n",
       "      <td>0.013652</td>\n",
       "    </tr>\n",
       "    <tr>\n",
       "      <th>RFC</th>\n",
       "      <td>0.584086</td>\n",
       "      <td>0.421247</td>\n",
       "      <td>1.000000</td>\n",
       "      <td>0.134608</td>\n",
       "      <td>0.381636</td>\n",
       "      <td>0.414878</td>\n",
       "      <td>0.072564</td>\n",
       "      <td>0.444076</td>\n",
       "      <td>0.529367</td>\n",
       "      <td>0.237368</td>\n",
       "      <td>0.240992</td>\n",
       "      <td>-0.126364</td>\n",
       "    </tr>\n",
       "    <tr>\n",
       "      <th>LOC</th>\n",
       "      <td>-0.120165</td>\n",
       "      <td>0.177024</td>\n",
       "      <td>0.134608</td>\n",
       "      <td>1.000000</td>\n",
       "      <td>0.126681</td>\n",
       "      <td>0.554326</td>\n",
       "      <td>0.618676</td>\n",
       "      <td>-0.065455</td>\n",
       "      <td>0.678224</td>\n",
       "      <td>0.181072</td>\n",
       "      <td>0.328527</td>\n",
       "      <td>-0.031098</td>\n",
       "    </tr>\n",
       "    <tr>\n",
       "      <th>CLOC</th>\n",
       "      <td>0.297347</td>\n",
       "      <td>0.250408</td>\n",
       "      <td>0.381636</td>\n",
       "      <td>0.126681</td>\n",
       "      <td>1.000000</td>\n",
       "      <td>0.416789</td>\n",
       "      <td>0.109636</td>\n",
       "      <td>0.107619</td>\n",
       "      <td>0.355080</td>\n",
       "      <td>-0.017867</td>\n",
       "      <td>0.171773</td>\n",
       "      <td>0.114297</td>\n",
       "    </tr>\n",
       "    <tr>\n",
       "      <th>FanIn</th>\n",
       "      <td>0.268289</td>\n",
       "      <td>0.594578</td>\n",
       "      <td>0.414878</td>\n",
       "      <td>0.554326</td>\n",
       "      <td>0.416789</td>\n",
       "      <td>1.000000</td>\n",
       "      <td>0.679297</td>\n",
       "      <td>0.296355</td>\n",
       "      <td>0.802910</td>\n",
       "      <td>0.179395</td>\n",
       "      <td>0.243709</td>\n",
       "      <td>0.239077</td>\n",
       "    </tr>\n",
       "    <tr>\n",
       "      <th>FanOut</th>\n",
       "      <td>-0.074350</td>\n",
       "      <td>0.240953</td>\n",
       "      <td>0.072564</td>\n",
       "      <td>0.618676</td>\n",
       "      <td>0.109636</td>\n",
       "      <td>0.679297</td>\n",
       "      <td>1.000000</td>\n",
       "      <td>0.076982</td>\n",
       "      <td>0.626327</td>\n",
       "      <td>0.295389</td>\n",
       "      <td>0.237237</td>\n",
       "      <td>0.240135</td>\n",
       "    </tr>\n",
       "    <tr>\n",
       "      <th>LCOM</th>\n",
       "      <td>-0.013518</td>\n",
       "      <td>0.109694</td>\n",
       "      <td>0.444076</td>\n",
       "      <td>-0.065455</td>\n",
       "      <td>0.107619</td>\n",
       "      <td>0.296355</td>\n",
       "      <td>0.076982</td>\n",
       "      <td>1.000000</td>\n",
       "      <td>0.291312</td>\n",
       "      <td>0.229251</td>\n",
       "      <td>-0.038683</td>\n",
       "      <td>0.017159</td>\n",
       "    </tr>\n",
       "    <tr>\n",
       "      <th>WMC</th>\n",
       "      <td>0.173468</td>\n",
       "      <td>0.492616</td>\n",
       "      <td>0.529367</td>\n",
       "      <td>0.678224</td>\n",
       "      <td>0.355080</td>\n",
       "      <td>0.802910</td>\n",
       "      <td>0.626327</td>\n",
       "      <td>0.291312</td>\n",
       "      <td>1.000000</td>\n",
       "      <td>0.381028</td>\n",
       "      <td>0.343628</td>\n",
       "      <td>0.127638</td>\n",
       "    </tr>\n",
       "    <tr>\n",
       "      <th>DIT</th>\n",
       "      <td>-0.163788</td>\n",
       "      <td>0.000144</td>\n",
       "      <td>0.237368</td>\n",
       "      <td>0.181072</td>\n",
       "      <td>-0.017867</td>\n",
       "      <td>0.179395</td>\n",
       "      <td>0.295389</td>\n",
       "      <td>0.229251</td>\n",
       "      <td>0.381028</td>\n",
       "      <td>1.000000</td>\n",
       "      <td>0.123330</td>\n",
       "      <td>0.352010</td>\n",
       "    </tr>\n",
       "    <tr>\n",
       "      <th>CDR</th>\n",
       "      <td>0.192707</td>\n",
       "      <td>0.212007</td>\n",
       "      <td>0.240992</td>\n",
       "      <td>0.328527</td>\n",
       "      <td>0.171773</td>\n",
       "      <td>0.243709</td>\n",
       "      <td>0.237237</td>\n",
       "      <td>-0.038683</td>\n",
       "      <td>0.343628</td>\n",
       "      <td>0.123330</td>\n",
       "      <td>1.000000</td>\n",
       "      <td>0.013400</td>\n",
       "    </tr>\n",
       "    <tr>\n",
       "      <th>TD</th>\n",
       "      <td>-0.179659</td>\n",
       "      <td>0.013652</td>\n",
       "      <td>-0.126364</td>\n",
       "      <td>-0.031098</td>\n",
       "      <td>0.114297</td>\n",
       "      <td>0.239077</td>\n",
       "      <td>0.240135</td>\n",
       "      <td>0.017159</td>\n",
       "      <td>0.127638</td>\n",
       "      <td>0.352010</td>\n",
       "      <td>0.013400</td>\n",
       "      <td>1.000000</td>\n",
       "    </tr>\n",
       "  </tbody>\n",
       "</table>\n",
       "</div>"
      ],
      "text/plain": [
       "             NOC       CBO       RFC       LOC      CLOC     FanIn    FanOut  \\\n",
       "NOC     1.000000  0.667344  0.584086 -0.120165  0.297347  0.268289 -0.074350   \n",
       "CBO     0.667344  1.000000  0.421247  0.177024  0.250408  0.594578  0.240953   \n",
       "RFC     0.584086  0.421247  1.000000  0.134608  0.381636  0.414878  0.072564   \n",
       "LOC    -0.120165  0.177024  0.134608  1.000000  0.126681  0.554326  0.618676   \n",
       "CLOC    0.297347  0.250408  0.381636  0.126681  1.000000  0.416789  0.109636   \n",
       "FanIn   0.268289  0.594578  0.414878  0.554326  0.416789  1.000000  0.679297   \n",
       "FanOut -0.074350  0.240953  0.072564  0.618676  0.109636  0.679297  1.000000   \n",
       "LCOM   -0.013518  0.109694  0.444076 -0.065455  0.107619  0.296355  0.076982   \n",
       "WMC     0.173468  0.492616  0.529367  0.678224  0.355080  0.802910  0.626327   \n",
       "DIT    -0.163788  0.000144  0.237368  0.181072 -0.017867  0.179395  0.295389   \n",
       "CDR     0.192707  0.212007  0.240992  0.328527  0.171773  0.243709  0.237237   \n",
       "TD     -0.179659  0.013652 -0.126364 -0.031098  0.114297  0.239077  0.240135   \n",
       "\n",
       "            LCOM       WMC       DIT       CDR        TD  \n",
       "NOC    -0.013518  0.173468 -0.163788  0.192707 -0.179659  \n",
       "CBO     0.109694  0.492616  0.000144  0.212007  0.013652  \n",
       "RFC     0.444076  0.529367  0.237368  0.240992 -0.126364  \n",
       "LOC    -0.065455  0.678224  0.181072  0.328527 -0.031098  \n",
       "CLOC    0.107619  0.355080 -0.017867  0.171773  0.114297  \n",
       "FanIn   0.296355  0.802910  0.179395  0.243709  0.239077  \n",
       "FanOut  0.076982  0.626327  0.295389  0.237237  0.240135  \n",
       "LCOM    1.000000  0.291312  0.229251 -0.038683  0.017159  \n",
       "WMC     0.291312  1.000000  0.381028  0.343628  0.127638  \n",
       "DIT     0.229251  0.381028  1.000000  0.123330  0.352010  \n",
       "CDR    -0.038683  0.343628  0.123330  1.000000  0.013400  \n",
       "TD      0.017159  0.127638  0.352010  0.013400  1.000000  "
      ]
     },
     "execution_count": 10,
     "metadata": {},
     "output_type": "execute_result"
    }
   ],
   "source": [
    "#Correlation between Internal Metrics & TD\n",
    "pd.DataFrame(data[[\"NOC\",\"CBO\",\"RFC\",\"LOC\",\"CLOC\",\"FanIn\",\"FanOut\",\"LCOM\",\"WMC\",\"DIT\",\"CDR\",\"TD\"]]).corr(method = \"spearman\")"
   ]
  },
  {
   "cell_type": "markdown",
   "metadata": {
    "id": "1eDgeyyDspha"
   },
   "source": [
    "# Part2 (ML Modelling)\n"
   ]
  },
  {
   "cell_type": "markdown",
   "metadata": {
    "id": "CTKM7k5dyw5k"
   },
   "source": [
    "\n",
    "We are going to use 5 different ML Regression Models to predict Technical Debt values:\n",
    "\n",
    ">Linear Regression\n",
    "\n",
    ">Support Vector Regression\n",
    "\n",
    ">Decision Tree Regression\n",
    "\n",
    ">Random Forest Tree Regression\n",
    "\n",
    ">Multi-layer Perceptron\n",
    "\n",
    "70% of our data will be used as training set and 30% as test set. Training and test sets will be randomly. The “random_state” variable will have a fixed value so that all models get the same random data. In this way, we will be able to evaluate the success rate of the different models objectively.\n"
   ]
  },
  {
   "cell_type": "code",
   "execution_count": 11,
   "metadata": {
    "id": "Fsc013bjERRa"
   },
   "outputs": [],
   "source": [
    "from sklearn.linear_model import LinearRegression\n",
    "from sklearn.metrics import mean_squared_error, mean_absolute_error\n",
    "from sklearn.svm import SVR\n",
    "from sklearn.tree import DecisionTreeRegressor\n",
    "from sklearn.ensemble import RandomForestRegressor\n",
    "from sklearn.neural_network import MLPRegressor\n",
    "from sklearn.neighbors import NearestCentroid\n",
    "\n",
    "random_state_fixed=53"
   ]
  },
  {
   "cell_type": "code",
   "execution_count": 12,
   "metadata": {},
   "outputs": [],
   "source": [
    "def plotGraph(y_test,y_pred,RegressorName):\n",
    "    plt.scatter(y_test, y_test, color = \"r\", label = \"Original Values\")\n",
    "    plt.scatter(y_test, y_pred, color = \"b\", label = \"Predicted Values\")\n",
    "    plt.title(RegressorName)\n",
    "    plt.legend()\n",
    "    plt.show()"
   ]
  },
  {
   "cell_type": "code",
   "execution_count": 13,
   "metadata": {},
   "outputs": [],
   "source": [
    "\n",
    "#Linear Regressor is one of the best choice for the data that is correlated linearly:\n",
    "\n",
    "def linearRegression(X_train,y_train,X_test,y_test,name):\n",
    "  # Create the regressor: reg_all\n",
    "    lr = LinearRegression()\n",
    "    lr.fit(X_train, y_train)\n",
    "    prediction = lr.predict(X_test)\n",
    "    rmse = mean_squared_error(y_test, prediction, squared = False)\n",
    "    print(f\"R-Squared Value: {lr.score(X_test, y_test)}\\nRoot Mean Squared Error: {rmse}\")\n",
    "    plotGraph(y_test,prediction,f\"Linear Regression {name}\")\n",
    "\n",
    "#SVR is also one of the most common regressor that used for regression predictions\n",
    "def svrRegression(X_train,y_train,X_test,y_test,name):\n",
    "    lr = SVR(kernel = \"linear\")\n",
    "    lr.fit(X_train, y_train)\n",
    "    prediction = lr.predict(X_test)\n",
    "    rmse = mean_squared_error(y_test, prediction, squared = False)\n",
    "    print(f\"R-Squared Value: {lr.score(X_test, y_test)}\\nRoot Mean Squared Error: {rmse}\")\n",
    "    plotGraph(y_test,prediction,f\"SVR Regression linear {name}\")\n",
    "\n",
    "\n",
    "\n",
    "def decisionTreeRegression(X_train,y_train,X_test,y_test,name):\n",
    "    lr = DecisionTreeRegressor(random_state = 53)\n",
    "    lr.fit(X_train, y_train)\n",
    "    prediction = lr.predict(X_test)\n",
    "    rmse = mean_squared_error(y_test, prediction, squared = False)\n",
    "    print(f\"R-Squared Value: {lr.score(X_test, y_test)}\\nRoot Mean Squared Error: {rmse}\")\n",
    "    plotGraph(y_test,prediction,f\"Decision Tree Regression {name}\")\n",
    "\n",
    "\n",
    "\n",
    "def randomDecTreeRegression(X_train,y_train,X_test,y_test,name):\n",
    "    lr = RandomForestRegressor(random_state = 53)\n",
    "    lr.fit(X_train, y_train)\n",
    "    prediction = lr.predict(X_test)\n",
    "    rmse = mean_squared_error(y_test, prediction, squared = False)\n",
    "    print(f\"R-Squared Value: {lr.score(X_test, y_test)}\\nRoot Mean Squared Error: {rmse}\")\n",
    "    plotGraph(y_test,prediction,f\"Random Decision Tree Regressor {name}\")\n",
    "\n",
    "\n",
    "\n",
    "#Multi-layer Perceptron regressor: 'This model optimizes the squared-loss using LBFGS or stochastic gradient descent.'\n",
    "def mlpRegressor(X_train,y_train,X_test,y_test,name):\n",
    "    lr = MLPRegressor(random_state = 53)\n",
    "    lr.fit(X_train, y_train)\n",
    "    prediction = lr.predict(X_test)\n",
    "    rmse = mean_squared_error(y_test, prediction, squared = False)\n",
    "    print(f\"R-Squared Value: {lr.score(X_test, y_test)}\\nRoot Mean Squared Error: {rmse}\")\n",
    "    plotGraph(y_test,prediction,f\"MLP Regressor {name}\")\n",
    "\n",
    "def svrRegressionRBF(X_train,y_train,X_test,y_test,name):\n",
    "    lr = SVR(kernel = \"rbf\")\n",
    "    lr.fit(X_train, y_train)\n",
    "    prediction = lr.predict(X_test)\n",
    "    rmse = mean_squared_error(y_test, prediction, squared = False)\n",
    "    print(f\"R-Squared Value: {lr.score(X_test, y_test)}\\nRoot Mean Squared Error: {rmse}\")\n",
    "    plotGraph(y_test,prediction,f\"SVR Regression rbf {name}\")"
   ]
  },
  {
   "cell_type": "markdown",
   "metadata": {},
   "source": [
    "In this step (step 3), we will try to estimate Technical Debt using internal metrics."
   ]
  },
  {
   "cell_type": "code",
   "execution_count": 14,
   "metadata": {
    "id": "Y5dIRQyL3-rM"
   },
   "outputs": [],
   "source": [
    "#split data into train and test data\n",
    "X = minmaxscaled.loc[:,\"NOC\":]\n",
    "y = minmaxscaled[\"CDR\"]\n",
    "z = minmaxscaled[\"TD\"]"
   ]
  },
  {
   "cell_type": "code",
   "execution_count": 15,
   "metadata": {
    "colab": {
     "base_uri": "https://localhost:8080/",
     "height": 314
    },
    "id": "ikhp_b2m3-pQ",
    "outputId": "03ccda88-b71d-4938-cc09-5fb9e590d7e1"
   },
   "outputs": [
    {
     "name": "stdout",
     "output_type": "stream",
     "text": [
      "R-Squared Value: -0.253539369006031\n",
      "Root Mean Squared Error: 0.2822820349754405\n"
     ]
    },
    {
     "data": {
      "image/png": "[encoded data removed]",
      "text/plain": [
       "<Figure size 432x288 with 1 Axes>"
      ]
     },
     "metadata": {
      "needs_background": "light"
     },
     "output_type": "display_data"
    }
   ],
   "source": [
    "#Model for Linear Regression (show also R-Squared Value and Root Mean Squared Error )\n",
    "X_train, X_test, y_train, y_test= train_test_split(X, y, test_size = 0.30, random_state=53)\n",
    "linearRegression(X_train,y_train,X_test,y_test,\"CDR\")"
   ]
  },
  {
   "cell_type": "code",
   "execution_count": 16,
   "metadata": {},
   "outputs": [
    {
     "name": "stdout",
     "output_type": "stream",
     "text": [
      "R-Squared Value: -0.17296753046920865\n",
      "Root Mean Squared Error: 0.26506407767604306\n"
     ]
    },
    {
     "data": {
      "image/png": "[encoded data removed]",
      "text/plain": [
       "<Figure size 432x288 with 1 Axes>"
      ]
     },
     "metadata": {
      "needs_background": "light"
     },
     "output_type": "display_data"
    }
   ],
   "source": [
    "X_train, X_test, y_train, y_test = train_test_split(X, z, test_size = 0.30, random_state=53)\n",
    "linearRegression(X_train,y_train,X_test,y_test,\"TD\")"
   ]
  },
  {
   "cell_type": "code",
   "execution_count": 17,
   "metadata": {
    "colab": {
     "base_uri": "https://localhost:8080/",
     "height": 612
    },
    "id": "oioKCTWg3-li",
    "outputId": "1fada3f9-e290-4059-9b95-91ff4c42d4e8"
   },
   "outputs": [
    {
     "name": "stdout",
     "output_type": "stream",
     "text": [
      "R-Squared Value: -0.12212300389682662\n",
      "Root Mean Squared Error: 0.2670757664434763\n"
     ]
    },
    {
     "data": {
      "image/png": "[encoded data removed]",
      "text/plain": [
       "<Figure size 432x288 with 1 Axes>"
      ]
     },
     "metadata": {
      "needs_background": "light"
     },
     "output_type": "display_data"
    }
   ],
   "source": [
    "#Model for SVR Regression (show also R-Squared Value and Root Mean Squared Error )\n",
    "X_train, X_test, y_train, y_test = train_test_split(X, y, test_size = 0.30, random_state=53)\n",
    "svrRegression(X_train,y_train,X_test,y_test,\"CDR\")"
   ]
  },
  {
   "cell_type": "code",
   "execution_count": 18,
   "metadata": {},
   "outputs": [
    {
     "name": "stdout",
     "output_type": "stream",
     "text": [
      "R-Squared Value: -0.3526354995047598\n",
      "Root Mean Squared Error: 0.2846415332813681\n"
     ]
    },
    {
     "data": {
      "image/png": "[encoded data removed]",
      "text/plain": [
       "<Figure size 432x288 with 1 Axes>"
      ]
     },
     "metadata": {
      "needs_background": "light"
     },
     "output_type": "display_data"
    }
   ],
   "source": [
    "X_train, X_test, y_train, y_test = train_test_split(X, z, test_size = 0.30, random_state=53)\n",
    "svrRegression(X_train,y_train,X_test,y_test,\"TD\")"
   ]
  },
  {
   "cell_type": "code",
   "execution_count": 19,
   "metadata": {},
   "outputs": [
    {
     "name": "stdout",
     "output_type": "stream",
     "text": [
      "R-Squared Value: -0.16455641994479597\n",
      "Root Mean Squared Error: 0.2720786834980814\n"
     ]
    },
    {
     "data": {
      "image/png": "[encoded data removed]",
      "text/plain": [
       "<Figure size 432x288 with 1 Axes>"
      ]
     },
     "metadata": {
      "needs_background": "light"
     },
     "output_type": "display_data"
    }
   ],
   "source": [
    "X_train, X_test, y_train, y_test = train_test_split(X, y, test_size = 0.30, random_state=53)\n",
    "svrRegressionRBF(X_train,y_train,X_test,y_test,\"CDR\")"
   ]
  },
  {
   "cell_type": "code",
   "execution_count": 20,
   "metadata": {},
   "outputs": [
    {
     "name": "stdout",
     "output_type": "stream",
     "text": [
      "R-Squared Value: -0.07658669531666251\n",
      "Root Mean Squared Error: 0.25394074173641473\n"
     ]
    },
    {
     "data": {
      "image/png": "[encoded data removed]",
      "text/plain": [
       "<Figure size 432x288 with 1 Axes>"
      ]
     },
     "metadata": {
      "needs_background": "light"
     },
     "output_type": "display_data"
    }
   ],
   "source": [
    "X_train, X_test, y_train, y_test = train_test_split(X, z, test_size = 0.30, random_state=53)\n",
    "svrRegressionRBF(X_train,y_train,X_test,y_test,\"TD\")"
   ]
  },
  {
   "cell_type": "code",
   "execution_count": 21,
   "metadata": {
    "colab": {
     "base_uri": "https://localhost:8080/",
     "height": 314
    },
    "id": "uRbMn_Pg3-jd",
    "outputId": "00ad9307-faf9-4ac5-b2fc-655da16f876e"
   },
   "outputs": [
    {
     "name": "stdout",
     "output_type": "stream",
     "text": [
      "R-Squared Value: -0.12150757783825572\n",
      "Root Mean Squared Error: 0.26700251782083956\n"
     ]
    },
    {
     "data": {
      "image/png": "[encoded data removed]",
      "text/plain": [
       "<Figure size 432x288 with 1 Axes>"
      ]
     },
     "metadata": {
      "needs_background": "light"
     },
     "output_type": "display_data"
    }
   ],
   "source": [
    "#Model for Decision Tree Regression (show also R-Squared Value and Root Mean Squared Error )\n",
    "X_train, X_test, y_train, y_test = train_test_split(X, y, test_size = 0.30, random_state=53)\n",
    "decisionTreeRegression(X_train,y_train,X_test,y_test,\"CDR\")"
   ]
  },
  {
   "cell_type": "code",
   "execution_count": 22,
   "metadata": {},
   "outputs": [
    {
     "name": "stdout",
     "output_type": "stream",
     "text": [
      "R-Squared Value: -0.5204592360688753\n",
      "Root Mean Squared Error: 0.30178334647732696\n"
     ]
    },
    {
     "data": {
      "image/png": "[encoded data removed]",
      "text/plain": [
       "<Figure size 432x288 with 1 Axes>"
      ]
     },
     "metadata": {
      "needs_background": "light"
     },
     "output_type": "display_data"
    }
   ],
   "source": [
    "X_train, X_test, y_train, y_test = train_test_split(X, z, test_size = 0.30, random_state=53)\n",
    "decisionTreeRegression(X_train,y_train,X_test,y_test,\"TD\")"
   ]
  },
  {
   "cell_type": "code",
   "execution_count": 23,
   "metadata": {
    "colab": {
     "base_uri": "https://localhost:8080/",
     "height": 314
    },
    "id": "QVghCZXp3-hy",
    "outputId": "76a0663b-f22e-48ce-e566-1f230d1b71a3"
   },
   "outputs": [
    {
     "name": "stdout",
     "output_type": "stream",
     "text": [
      "R-Squared Value: -0.03553425364802698\n",
      "Root Mean Squared Error: 0.2565644532568086\n"
     ]
    },
    {
     "data": {
      "image/png": "[encoded data removed]",
      "text/plain": [
       "<Figure size 432x288 with 1 Axes>"
      ]
     },
     "metadata": {
      "needs_background": "light"
     },
     "output_type": "display_data"
    }
   ],
   "source": [
    "#Model for Random Decision Tree Regression (show also R-Squared Value and Root Mean Squared Error )\n",
    "X_train, X_test, y_train, y_test = train_test_split(X, y, test_size = 0.30, random_state=53)\n",
    "randomDecTreeRegression(X_train,y_train,X_test,y_test,\"CDR\")"
   ]
  },
  {
   "cell_type": "code",
   "execution_count": 24,
   "metadata": {},
   "outputs": [
    {
     "name": "stdout",
     "output_type": "stream",
     "text": [
      "R-Squared Value: -0.1744307107889569\n",
      "Root Mean Squared Error: 0.26522934894686007\n"
     ]
    },
    {
     "data": {
      "image/png": "[encoded data removed]",
      "text/plain": [
       "<Figure size 432x288 with 1 Axes>"
      ]
     },
     "metadata": {
      "needs_background": "light"
     },
     "output_type": "display_data"
    }
   ],
   "source": [
    "X_train, X_test, y_train, y_test = train_test_split(X, z, test_size = 0.30, random_state=53)\n",
    "randomDecTreeRegression(X_train,y_train,X_test,y_test,\"TD\")"
   ]
  },
  {
   "cell_type": "code",
   "execution_count": 25,
   "metadata": {
    "colab": {
     "base_uri": "https://localhost:8080/",
     "height": 314
    },
    "id": "R_n5bX1h3-gM",
    "outputId": "3170db1e-2a55-41e7-cf9c-53ab8069cc8a"
   },
   "outputs": [
    {
     "name": "stdout",
     "output_type": "stream",
     "text": [
      "R-Squared Value: -0.22435327148884165\n",
      "Root Mean Squared Error: 0.27897650141415087\n"
     ]
    },
    {
     "data": {
      "image/png": "[encoded data removed]",
      "text/plain": [
       "<Figure size 432x288 with 1 Axes>"
      ]
     },
     "metadata": {
      "needs_background": "light"
     },
     "output_type": "display_data"
    }
   ],
   "source": [
    "#Model for Multi-layer Perceptron Regressor (show also R-Squared Value and Root Mean Squared Error )\n",
    "X_train, X_test, y_train, y_test = train_test_split(X, y, test_size = 0.30, random_state=53)\n",
    "mlpRegressor(X_train,y_train,X_test,y_test,\"CDR\")"
   ]
  },
  {
   "cell_type": "code",
   "execution_count": 26,
   "metadata": {},
   "outputs": [
    {
     "name": "stdout",
     "output_type": "stream",
     "text": [
      "R-Squared Value: -0.48717723192559986\n",
      "Root Mean Squared Error: 0.2984621365383263\n"
     ]
    },
    {
     "data": {
      "image/png": "[encoded data removed]",
      "text/plain": [
       "<Figure size 432x288 with 1 Axes>"
      ]
     },
     "metadata": {
      "needs_background": "light"
     },
     "output_type": "display_data"
    }
   ],
   "source": [
    "X_train, X_test, y_train, y_test = train_test_split(X, z, test_size = 0.30, random_state=53)\n",
    "mlpRegressor(X_train,y_train,X_test,y_test,\"TD\")"
   ]
  },
  {
   "cell_type": "markdown",
   "metadata": {},
   "source": [
    "In this step (step 4), we will try to estimate Technical Debt using external metrics."
   ]
  },
  {
   "cell_type": "code",
   "execution_count": 27,
   "metadata": {
    "id": "OWynoUpl_LpD"
   },
   "outputs": [],
   "source": [
    "#split data into train and test data\n",
    "X = minmaxscaled.loc[:,:\"CS\"]"
   ]
  },
  {
   "cell_type": "code",
   "execution_count": 28,
   "metadata": {
    "colab": {
     "base_uri": "https://localhost:8080/",
     "height": 314
    },
    "id": "4y3fnnz0_Lmw",
    "outputId": "4f890e21-c377-47b4-847b-538b07b40b5f"
   },
   "outputs": [
    {
     "name": "stdout",
     "output_type": "stream",
     "text": [
      "R-Squared Value: -0.29877407933861844\n",
      "Root Mean Squared Error: 0.2873300555429503\n"
     ]
    },
    {
     "data": {
      "image/png": "[encoded data removed]",
      "text/plain": [
       "<Figure size 432x288 with 1 Axes>"
      ]
     },
     "metadata": {
      "needs_background": "light"
     },
     "output_type": "display_data"
    }
   ],
   "source": [
    "#Model for Linear Regression (show also R-Squared Value and Root Mean Squared Error )\n",
    "X_train, X_test, y_train, y_test = train_test_split(X, y, test_size = 0.30, random_state=53)\n",
    "linearRegression(X_train,y_train,X_test,y_test,\"CDR\")"
   ]
  },
  {
   "cell_type": "code",
   "execution_count": 29,
   "metadata": {},
   "outputs": [
    {
     "name": "stdout",
     "output_type": "stream",
     "text": [
      "R-Squared Value: -0.43316285342176236\n",
      "Root Mean Squared Error: 0.2929919249634493\n"
     ]
    },
    {
     "data": {
      "image/png": "[encoded data removed]",
      "text/plain": [
       "<Figure size 432x288 with 1 Axes>"
      ]
     },
     "metadata": {
      "needs_background": "light"
     },
     "output_type": "display_data"
    }
   ],
   "source": [
    "X_train, X_test, y_train, y_test = train_test_split(X, z, test_size = 0.30, random_state=53)\n",
    "linearRegression(X_train,y_train,X_test,y_test,\"TD\")"
   ]
  },
  {
   "cell_type": "code",
   "execution_count": 30,
   "metadata": {
    "colab": {
     "base_uri": "https://localhost:8080/",
     "height": 612
    },
    "id": "dD-1O7IP_Lkq",
    "outputId": "05766b19-d36c-4fbc-abb8-69571587b5bb"
   },
   "outputs": [
    {
     "name": "stdout",
     "output_type": "stream",
     "text": [
      "R-Squared Value: -0.10105796501066222\n",
      "Root Mean Squared Error: 0.2645570517029422\n"
     ]
    },
    {
     "data": {
      "image/png": "[encoded data removed]",
      "text/plain": [
       "<Figure size 432x288 with 1 Axes>"
      ]
     },
     "metadata": {
      "needs_background": "light"
     },
     "output_type": "display_data"
    }
   ],
   "source": [
    "#Model for SVR (show also R-Squared Value and Root Mean Squared Error )\n",
    "X_train, X_test, y_train, y_test = train_test_split(X, y, test_size = 0.30, random_state=53)\n",
    "svrRegression(X_train,y_train,X_test,y_test,\"CDR\")"
   ]
  },
  {
   "cell_type": "code",
   "execution_count": 31,
   "metadata": {},
   "outputs": [
    {
     "name": "stdout",
     "output_type": "stream",
     "text": [
      "R-Squared Value: -0.3170558678590276\n",
      "Root Mean Squared Error: 0.28087299055485854\n"
     ]
    },
    {
     "data": {
      "image/png": "[encoded data removed]",
      "text/plain": [
       "<Figure size 432x288 with 1 Axes>"
      ]
     },
     "metadata": {
      "needs_background": "light"
     },
     "output_type": "display_data"
    }
   ],
   "source": [
    "X_train, X_test, y_train, y_test = train_test_split(X, z, test_size = 0.30, random_state=53)\n",
    "svrRegression(X_train,y_train,X_test,y_test,\"TD\")"
   ]
  },
  {
   "cell_type": "code",
   "execution_count": 32,
   "metadata": {},
   "outputs": [
    {
     "name": "stdout",
     "output_type": "stream",
     "text": [
      "R-Squared Value: -0.05742000726843233\n",
      "Root Mean Squared Error: 0.2592614897703499\n"
     ]
    },
    {
     "data": {
      "image/png": "[encoded data removed]",
      "text/plain": [
       "<Figure size 432x288 with 1 Axes>"
      ]
     },
     "metadata": {
      "needs_background": "light"
     },
     "output_type": "display_data"
    }
   ],
   "source": [
    "X_train, X_test, y_train, y_test = train_test_split(X, y, test_size = 0.30, random_state=53)\n",
    "svrRegressionRBF(X_train,y_train,X_test,y_test,\"CDR\")"
   ]
  },
  {
   "cell_type": "code",
   "execution_count": 33,
   "metadata": {},
   "outputs": [
    {
     "name": "stdout",
     "output_type": "stream",
     "text": [
      "R-Squared Value: -0.4528155144917994\n",
      "Root Mean Squared Error: 0.2949939533353097\n"
     ]
    },
    {
     "data": {
      "image/png": "[encoded data removed]",
      "text/plain": [
       "<Figure size 432x288 with 1 Axes>"
      ]
     },
     "metadata": {
      "needs_background": "light"
     },
     "output_type": "display_data"
    }
   ],
   "source": [
    "X_train, X_test, y_train, y_test = train_test_split(X, z, test_size = 0.30, random_state=53)\n",
    "svrRegressionRBF(X_train,y_train,X_test,y_test,\"TD\")"
   ]
  },
  {
   "cell_type": "code",
   "execution_count": 34,
   "metadata": {
    "colab": {
     "base_uri": "https://localhost:8080/",
     "height": 314
    },
    "id": "gyNreFSJ_LiM",
    "outputId": "899e2934-6096-4ea6-e86e-24944d368c11"
   },
   "outputs": [
    {
     "name": "stdout",
     "output_type": "stream",
     "text": [
      "R-Squared Value: -0.49827719657436775\n",
      "Root Mean Squared Error: 0.3086102422213462\n"
     ]
    },
    {
     "data": {
      "image/png": "[encoded data removed]",
      "text/plain": [
       "<Figure size 432x288 with 1 Axes>"
      ]
     },
     "metadata": {
      "needs_background": "light"
     },
     "output_type": "display_data"
    }
   ],
   "source": [
    "#Model for Decision Tree Regression (show also R-Squared Value and Root Mean Squared Error )\n",
    "X_train, X_test, y_train, y_test = train_test_split(X, y, test_size = 0.30, random_state=53)\n",
    "decisionTreeRegression(X_train,y_train,X_test,y_test,\"CDR\")"
   ]
  },
  {
   "cell_type": "code",
   "execution_count": 35,
   "metadata": {},
   "outputs": [
    {
     "name": "stdout",
     "output_type": "stream",
     "text": [
      "R-Squared Value: -0.7371656181142008\n",
      "Root Mean Squared Error: 0.32257335573307827\n"
     ]
    },
    {
     "data": {
      "image/png": "[encoded data removed]",
      "text/plain": [
       "<Figure size 432x288 with 1 Axes>"
      ]
     },
     "metadata": {
      "needs_background": "light"
     },
     "output_type": "display_data"
    }
   ],
   "source": [
    "X_train, X_test, y_train, y_test = train_test_split(X, z, test_size = 0.30, random_state=53)\n",
    "decisionTreeRegression(X_train,y_train,X_test,y_test,\"TD\")"
   ]
  },
  {
   "cell_type": "code",
   "execution_count": 36,
   "metadata": {
    "colab": {
     "base_uri": "https://localhost:8080/",
     "height": 314
    },
    "id": "CXdCCVF9_Lgj",
    "outputId": "17b31f51-6f07-4317-a9cf-fbdd4db3f6d5"
   },
   "outputs": [
    {
     "name": "stdout",
     "output_type": "stream",
     "text": [
      "R-Squared Value: -0.2632742903155614\n",
      "Root Mean Squared Error: 0.2833760089217237\n"
     ]
    },
    {
     "data": {
      "image/png": "[encoded data removed]",
      "text/plain": [
       "<Figure size 432x288 with 1 Axes>"
      ]
     },
     "metadata": {
      "needs_background": "light"
     },
     "output_type": "display_data"
    }
   ],
   "source": [
    "#Model for Random Decision Tree Regression (show also R-Squared Value and Root Mean Squared Error )\n",
    "X_train, X_test, y_train, y_test = train_test_split(X, y, test_size = 0.30, random_state=53)\n",
    "randomDecTreeRegression(X_train,y_train,X_test,y_test,\"CDR\")"
   ]
  },
  {
   "cell_type": "code",
   "execution_count": 37,
   "metadata": {},
   "outputs": [
    {
     "name": "stdout",
     "output_type": "stream",
     "text": [
      "R-Squared Value: -0.11927607069503599\n",
      "Root Mean Squared Error: 0.25892649296700004\n"
     ]
    },
    {
     "data": {
      "image/png": "[encoded data removed]",
      "text/plain": [
       "<Figure size 432x288 with 1 Axes>"
      ]
     },
     "metadata": {
      "needs_background": "light"
     },
     "output_type": "display_data"
    }
   ],
   "source": [
    "X_train, X_test, y_train, y_test = train_test_split(X, z, test_size = 0.30, random_state=53)\n",
    "randomDecTreeRegression(X_train,y_train,X_test,y_test,\"TD\")"
   ]
  },
  {
   "cell_type": "code",
   "execution_count": 38,
   "metadata": {
    "colab": {
     "base_uri": "https://localhost:8080/",
     "height": 314
    },
    "id": "_JCoFHOq_Lei",
    "outputId": "dc245052-598f-409d-a07e-f4d41c2ed716"
   },
   "outputs": [
    {
     "name": "stdout",
     "output_type": "stream",
     "text": [
      "R-Squared Value: -0.1733124776552255\n",
      "Root Mean Squared Error: 0.2730996195799929\n"
     ]
    },
    {
     "data": {
      "image/png": "[encoded data removed]",
      "text/plain": [
       "<Figure size 432x288 with 1 Axes>"
      ]
     },
     "metadata": {
      "needs_background": "light"
     },
     "output_type": "display_data"
    }
   ],
   "source": [
    "#Model for Multi-layer Perceptron Regressor (show also R-Squared Value and Root Mean Squared Error )\n",
    "X_train, X_test, y_train, y_test = train_test_split(X, y, test_size = 0.30, random_state=53)\n",
    "mlpRegressor(X_train,y_train,X_test,y_test,\"CDR\")"
   ]
  },
  {
   "cell_type": "code",
   "execution_count": 39,
   "metadata": {},
   "outputs": [
    {
     "name": "stdout",
     "output_type": "stream",
     "text": [
      "R-Squared Value: -0.1905169499496393\n",
      "Root Mean Squared Error: 0.2670396014132049\n"
     ]
    },
    {
     "data": {
      "image/png": "[encoded data removed]",
      "text/plain": [
       "<Figure size 432x288 with 1 Axes>"
      ]
     },
     "metadata": {
      "needs_background": "light"
     },
     "output_type": "display_data"
    }
   ],
   "source": [
    "X_train, X_test, y_train, y_test = train_test_split(X, z, test_size = 0.30, random_state=53)\n",
    "mlpRegressor(X_train,y_train,X_test,y_test,\"TD\")"
   ]
  },
  {
   "cell_type": "markdown",
   "metadata": {
    "id": "VFtnLsHJqAWM"
   },
   "source": [
    "In this step 5, we will try to estimate Technical Debt using all internal and external metrics."
   ]
  },
  {
   "cell_type": "code",
   "execution_count": 40,
   "metadata": {
    "id": "t0YbWzOCph0O"
   },
   "outputs": [],
   "source": [
    "#split data into train and test data\n",
    "X = minmaxscaled.drop([\"CDR\",\"TD\"],axis = 1)"
   ]
  },
  {
   "cell_type": "code",
   "execution_count": 41,
   "metadata": {
    "colab": {
     "base_uri": "https://localhost:8080/",
     "height": 314
    },
    "id": "qUE_tN3-phLA",
    "outputId": "fd827f1c-f22b-4480-fd06-bc5efbd2e990"
   },
   "outputs": [
    {
     "name": "stdout",
     "output_type": "stream",
     "text": [
      "R-Squared Value: -2.0091415912957937\n",
      "Root Mean Squared Error: 0.4373564766984459\n"
     ]
    },
    {
     "data": {
      "image/png": "[encoded data removed]",
      "text/plain": [
       "<Figure size 432x288 with 1 Axes>"
      ]
     },
     "metadata": {
      "needs_background": "light"
     },
     "output_type": "display_data"
    }
   ],
   "source": [
    "#Model for Linear Regression (show also R-Squared Value and Root Mean Squared Error )\n",
    "X_train, X_test, y_train, y_test = train_test_split(X, y, test_size = 0.30, random_state=53)\n",
    "linearRegression(X_train,y_train,X_test,y_test,\"CDR\")"
   ]
  },
  {
   "cell_type": "code",
   "execution_count": 42,
   "metadata": {},
   "outputs": [
    {
     "name": "stdout",
     "output_type": "stream",
     "text": [
      "R-Squared Value: -0.0036332791000979188\n",
      "Root Mean Squared Error: 0.24518585195724793\n"
     ]
    },
    {
     "data": {
      "image/png": "[encoded data removed]",
      "text/plain": [
       "<Figure size 432x288 with 1 Axes>"
      ]
     },
     "metadata": {
      "needs_background": "light"
     },
     "output_type": "display_data"
    }
   ],
   "source": [
    "X_train, X_test, y_train, y_test = train_test_split(X, z, test_size = 0.30, random_state=53)\n",
    "linearRegression(X_train,y_train,X_test,y_test,\"TD\")"
   ]
  },
  {
   "cell_type": "code",
   "execution_count": 43,
   "metadata": {
    "colab": {
     "base_uri": "https://localhost:8080/",
     "height": 612
    },
    "id": "8DMCiKR4_LZA",
    "outputId": "6d818504-11b1-4b52-b6ec-56b2f991b383"
   },
   "outputs": [
    {
     "name": "stdout",
     "output_type": "stream",
     "text": [
      "R-Squared Value: -0.1605709781449498\n",
      "Root Mean Squared Error: 0.2716127193456499\n"
     ]
    },
    {
     "data": {
      "image/png": "[encoded data removed]",
      "text/plain": [
       "<Figure size 432x288 with 1 Axes>"
      ]
     },
     "metadata": {
      "needs_background": "light"
     },
     "output_type": "display_data"
    }
   ],
   "source": [
    "#Model for SVR (show also R-Squared Value and Root Mean Squared Error )\n",
    "X_train, X_test, y_train, y_test = train_test_split(X, y, test_size = 0.30, random_state=53)\n",
    "svrRegression(X_train,y_train,X_test,y_test,\"CDR\")"
   ]
  },
  {
   "cell_type": "code",
   "execution_count": 44,
   "metadata": {},
   "outputs": [
    {
     "name": "stdout",
     "output_type": "stream",
     "text": [
      "R-Squared Value: -0.36281172246930304\n",
      "Root Mean Squared Error: 0.2857102425477753\n"
     ]
    },
    {
     "data": {
      "image/png": "[encoded data removed]",
      "text/plain": [
       "<Figure size 432x288 with 1 Axes>"
      ]
     },
     "metadata": {
      "needs_background": "light"
     },
     "output_type": "display_data"
    }
   ],
   "source": [
    "X_train, X_test, y_train, y_test = train_test_split(X, z, test_size = 0.30, random_state=53)\n",
    "svrRegression(X_train,y_train,X_test,y_test,\"TD\")"
   ]
  },
  {
   "cell_type": "code",
   "execution_count": 45,
   "metadata": {},
   "outputs": [
    {
     "name": "stdout",
     "output_type": "stream",
     "text": [
      "R-Squared Value: -0.23945919966775864\n",
      "Root Mean Squared Error: 0.2806922153718834\n"
     ]
    },
    {
     "data": {
      "image/png": "[encoded data removed]",
      "text/plain": [
       "<Figure size 432x288 with 1 Axes>"
      ]
     },
     "metadata": {
      "needs_background": "light"
     },
     "output_type": "display_data"
    }
   ],
   "source": [
    "X_train, X_test, y_train, y_test = train_test_split(X, y, test_size = 0.30, random_state=53)\n",
    "svrRegressionRBF(X_train,y_train,X_test,y_test,\"CDR\")"
   ]
  },
  {
   "cell_type": "code",
   "execution_count": 46,
   "metadata": {},
   "outputs": [
    {
     "name": "stdout",
     "output_type": "stream",
     "text": [
      "R-Squared Value: -0.09720921648004222\n",
      "Root Mean Squared Error: 0.2563613813817413\n"
     ]
    },
    {
     "data": {
      "image/png": "[encoded data removed]",
      "text/plain": [
       "<Figure size 432x288 with 1 Axes>"
      ]
     },
     "metadata": {
      "needs_background": "light"
     },
     "output_type": "display_data"
    }
   ],
   "source": [
    "X_train, X_test, y_train, y_test = train_test_split(X, z, test_size = 0.30, random_state=53)\n",
    "svrRegressionRBF(X_train,y_train,X_test,y_test,\"TD\")"
   ]
  },
  {
   "cell_type": "code",
   "execution_count": 47,
   "metadata": {
    "colab": {
     "base_uri": "https://localhost:8080/",
     "height": 314
    },
    "id": "rg9MEDse_8Eq",
    "outputId": "99f2ad4a-4b9d-4d27-8c9e-810ae390cbe2"
   },
   "outputs": [
    {
     "name": "stdout",
     "output_type": "stream",
     "text": [
      "R-Squared Value: -0.05417378556625985\n",
      "Root Mean Squared Error: 0.25886322456148736\n"
     ]
    },
    {
     "data": {
      "image/png": "[encoded data removed]",
      "text/plain": [
       "<Figure size 432x288 with 1 Axes>"
      ]
     },
     "metadata": {
      "needs_background": "light"
     },
     "output_type": "display_data"
    }
   ],
   "source": [
    "#Model for Decision Tree Regression (show also R-Squared Value and Root Mean Squared Error )\n",
    "X_train, X_test, y_train, y_test = train_test_split(X, y, test_size = 0.30, random_state=53)\n",
    "decisionTreeRegression(X_train,y_train,X_test,y_test,\"CDR\")"
   ]
  },
  {
   "cell_type": "code",
   "execution_count": 48,
   "metadata": {},
   "outputs": [
    {
     "name": "stdout",
     "output_type": "stream",
     "text": [
      "R-Squared Value: -0.2556706581453083\n",
      "Root Mean Squared Error: 0.2742494419820825\n"
     ]
    },
    {
     "data": {
      "image/png": "[encoded data removed]",
      "text/plain": [
       "<Figure size 432x288 with 1 Axes>"
      ]
     },
     "metadata": {
      "needs_background": "light"
     },
     "output_type": "display_data"
    }
   ],
   "source": [
    "X_train, X_test, y_train, y_test = train_test_split(X, z, test_size = 0.30, random_state=53)\n",
    "decisionTreeRegression(X_train,y_train,X_test,y_test,\"TD\")"
   ]
  },
  {
   "cell_type": "code",
   "execution_count": 49,
   "metadata": {
    "colab": {
     "base_uri": "https://localhost:8080/",
     "height": 314
    },
    "id": "PiZM7ufN_8CQ",
    "outputId": "a10b57d8-6a38-4022-f99c-c264035cd666"
   },
   "outputs": [
    {
     "name": "stdout",
     "output_type": "stream",
     "text": [
      "R-Squared Value: -0.031284868043244485\n",
      "Root Mean Squared Error: 0.2560374972139704\n"
     ]
    },
    {
     "data": {
      "image/png": "[encoded data removed]",
      "text/plain": [
       "<Figure size 432x288 with 1 Axes>"
      ]
     },
     "metadata": {
      "needs_background": "light"
     },
     "output_type": "display_data"
    }
   ],
   "source": [
    "#Model for Random Decision Tree Regression (show also R-Squared Value and Root Mean Squared Error )\n",
    "X_train, X_test, y_train, y_test = train_test_split(X, y, test_size = 0.30, random_state=53)\n",
    "randomDecTreeRegression(X_train,y_train,X_test,y_test,\"CDR\")"
   ]
  },
  {
   "cell_type": "code",
   "execution_count": 50,
   "metadata": {},
   "outputs": [
    {
     "name": "stdout",
     "output_type": "stream",
     "text": [
      "R-Squared Value: 0.048007988773343446\n",
      "Root Mean Squared Error: 0.23879461646456565\n"
     ]
    },
    {
     "data": {
      "image/png": "[encoded data removed]",
      "text/plain": [
       "<Figure size 432x288 with 1 Axes>"
      ]
     },
     "metadata": {
      "needs_background": "light"
     },
     "output_type": "display_data"
    }
   ],
   "source": [
    "X_train, X_test, y_train, y_test = train_test_split(X, z, test_size = 0.30, random_state=53)\n",
    "randomDecTreeRegression(X_train,y_train,X_test,y_test,\"TD\")"
   ]
  },
  {
   "cell_type": "code",
   "execution_count": 51,
   "metadata": {
    "colab": {
     "base_uri": "https://localhost:8080/",
     "height": 314
    },
    "id": "24vR1rXgq7Wt",
    "outputId": "29c0eb6d-b055-409d-9447-b54a7e8b9904"
   },
   "outputs": [
    {
     "name": "stdout",
     "output_type": "stream",
     "text": [
      "R-Squared Value: -0.4772927050595705\n",
      "Root Mean Squared Error: 0.30644146309720954\n"
     ]
    },
    {
     "data": {
      "image/png": "[encoded data removed]",
      "text/plain": [
       "<Figure size 432x288 with 1 Axes>"
      ]
     },
     "metadata": {
      "needs_background": "light"
     },
     "output_type": "display_data"
    }
   ],
   "source": [
    "#Model for Multi-layer Perceptron Regressor (show also R-Squared Value and Root Mean Squared Error )\n",
    "X_train, X_test, y_train, y_test = train_test_split(X, y, test_size = 0.30, random_state=53)\n",
    "mlpRegressor(X_train,y_train,X_test,y_test,\"CDR\")"
   ]
  },
  {
   "cell_type": "code",
   "execution_count": 52,
   "metadata": {},
   "outputs": [
    {
     "name": "stdout",
     "output_type": "stream",
     "text": [
      "R-Squared Value: -0.09356621979107316\n",
      "Root Mean Squared Error: 0.25593543701691623\n"
     ]
    },
    {
     "data": {
      "image/png": "[encoded data removed]",
      "text/plain": [
       "<Figure size 432x288 with 1 Axes>"
      ]
     },
     "metadata": {
      "needs_background": "light"
     },
     "output_type": "display_data"
    }
   ],
   "source": [
    "X_train, X_test, y_train, y_test = train_test_split(X, z, test_size = 0.30, random_state=53)\n",
    "mlpRegressor(X_train,y_train,X_test,y_test,\"TD\")"
   ]
  }
 ],
 "metadata": {
  "colab": {
   "collapsed_sections": [],
   "name": "notebook1_TD_düzenlendi.ipynb",
   "provenance": [],
   "toc_visible": true
  },
  "kernelspec": {
   "display_name": "Python 3",
   "language": "python",
   "name": "python3"
  },
  "language_info": {
   "codemirror_mode": {
    "name": "ipython",
    "version": 3
   },
   "file_extension": ".py",
   "mimetype": "text/x-python",
   "name": "python",
   "nbconvert_exporter": "python",
   "pygments_lexer": "ipython3",
   "version": "3.7.6"
  }
 },
 "nbformat": 4,
 "nbformat_minor": 1
}
